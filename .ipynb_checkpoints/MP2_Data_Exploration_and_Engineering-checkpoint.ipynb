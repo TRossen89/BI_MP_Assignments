{
 "cells": [
  {
   "cell_type": "markdown",
   "id": "90b0a512-b030-4ad2-9bef-e83e960b6d1f",
   "metadata": {},
   "source": [
    "# DATA EPLORATION AND ENGINEERING"
   ]
  },
  {
   "cell_type": "markdown",
   "id": "7352196e-2cbd-4158-8504-4b94a835c11e",
   "metadata": {},
   "source": [
    "## 1) Loading the wine data"
   ]
  },
  {
   "cell_type": "code",
   "execution_count": 3,
   "id": "15b463c2-4f39-41df-9988-9e854ea298bb",
   "metadata": {},
   "outputs": [],
   "source": [
    "import pandas as pd\n",
    "\n",
    "# import numpy for numerical analysis\n",
    "import numpy as np\n",
    "\n",
    "# import libs for diagrams inline with the text\n",
    "import matplotlib.pyplot as plt\n",
    "%matplotlib inline\n",
    "import seaborn as sns\n",
    "\n",
    "# other utilities\n",
    "from sklearn import datasets, preprocessing, metrics\n",
    "from sklearn.preprocessing import MinMaxScaler, StandardScaler\n"
   ]
  },
  {
   "cell_type": "markdown",
   "id": "93c4dfe7-7942-45b1-866d-bfed25c04522",
   "metadata": {},
   "source": [
    "### 1.1) Winequality red"
   ]
  },
  {
   "cell_type": "code",
   "execution_count": 5,
   "id": "fe066fa3-3424-4d8f-8cba-4e2bac04a83f",
   "metadata": {},
   "outputs": [],
   "source": [
    "url = \"https://raw.githubusercontent.com/foxdocs/cph-bi-2024/main/Data/UCL-Wine/winequality-red.csv\"\n",
    "\n",
    "red_wine_df = pd.read_csv(url, delimiter=\";\", header=0)"
   ]
  },
  {
   "cell_type": "code",
   "execution_count": 6,
   "id": "41dbf003-3d67-4357-b804-17588932c448",
   "metadata": {},
   "outputs": [
    {
     "data": {
      "text/html": [
       "<div>\n",
       "<style scoped>\n",
       "    .dataframe tbody tr th:only-of-type {\n",
       "        vertical-align: middle;\n",
       "    }\n",
       "\n",
       "    .dataframe tbody tr th {\n",
       "        vertical-align: top;\n",
       "    }\n",
       "\n",
       "    .dataframe thead th {\n",
       "        text-align: right;\n",
       "    }\n",
       "</style>\n",
       "<table border=\"1\" class=\"dataframe\">\n",
       "  <thead>\n",
       "    <tr style=\"text-align: right;\">\n",
       "      <th></th>\n",
       "      <th>fixed acidity</th>\n",
       "      <th>volatile acidity</th>\n",
       "      <th>citric acid</th>\n",
       "      <th>residual sugar</th>\n",
       "      <th>chlorides</th>\n",
       "      <th>free sulfur dioxide</th>\n",
       "      <th>total sulfur dioxide</th>\n",
       "      <th>density</th>\n",
       "      <th>pH</th>\n",
       "      <th>sulphates</th>\n",
       "      <th>alcohol</th>\n",
       "      <th>quality</th>\n",
       "    </tr>\n",
       "  </thead>\n",
       "  <tbody>\n",
       "    <tr>\n",
       "      <th>0</th>\n",
       "      <td>7.4</td>\n",
       "      <td>0.70</td>\n",
       "      <td>0.00</td>\n",
       "      <td>1.9</td>\n",
       "      <td>0.076</td>\n",
       "      <td>11.0</td>\n",
       "      <td>34.0</td>\n",
       "      <td>0.9978</td>\n",
       "      <td>3.51</td>\n",
       "      <td>0.56</td>\n",
       "      <td>9.4</td>\n",
       "      <td>5</td>\n",
       "    </tr>\n",
       "    <tr>\n",
       "      <th>1</th>\n",
       "      <td>7.8</td>\n",
       "      <td>0.88</td>\n",
       "      <td>0.00</td>\n",
       "      <td>2.6</td>\n",
       "      <td>0.098</td>\n",
       "      <td>25.0</td>\n",
       "      <td>67.0</td>\n",
       "      <td>0.9968</td>\n",
       "      <td>3.20</td>\n",
       "      <td>0.68</td>\n",
       "      <td>9.8</td>\n",
       "      <td>5</td>\n",
       "    </tr>\n",
       "    <tr>\n",
       "      <th>2</th>\n",
       "      <td>7.8</td>\n",
       "      <td>0.76</td>\n",
       "      <td>0.04</td>\n",
       "      <td>2.3</td>\n",
       "      <td>0.092</td>\n",
       "      <td>15.0</td>\n",
       "      <td>54.0</td>\n",
       "      <td>0.9970</td>\n",
       "      <td>3.26</td>\n",
       "      <td>0.65</td>\n",
       "      <td>9.8</td>\n",
       "      <td>5</td>\n",
       "    </tr>\n",
       "    <tr>\n",
       "      <th>3</th>\n",
       "      <td>11.2</td>\n",
       "      <td>0.28</td>\n",
       "      <td>0.56</td>\n",
       "      <td>1.9</td>\n",
       "      <td>0.075</td>\n",
       "      <td>17.0</td>\n",
       "      <td>60.0</td>\n",
       "      <td>0.9980</td>\n",
       "      <td>3.16</td>\n",
       "      <td>0.58</td>\n",
       "      <td>9.8</td>\n",
       "      <td>6</td>\n",
       "    </tr>\n",
       "    <tr>\n",
       "      <th>4</th>\n",
       "      <td>7.4</td>\n",
       "      <td>0.70</td>\n",
       "      <td>0.00</td>\n",
       "      <td>1.9</td>\n",
       "      <td>0.076</td>\n",
       "      <td>11.0</td>\n",
       "      <td>34.0</td>\n",
       "      <td>0.9978</td>\n",
       "      <td>3.51</td>\n",
       "      <td>0.56</td>\n",
       "      <td>9.4</td>\n",
       "      <td>5</td>\n",
       "    </tr>\n",
       "  </tbody>\n",
       "</table>\n",
       "</div>"
      ],
      "text/plain": [
       "   fixed acidity  volatile acidity  citric acid  residual sugar  chlorides  \\\n",
       "0            7.4              0.70         0.00             1.9      0.076   \n",
       "1            7.8              0.88         0.00             2.6      0.098   \n",
       "2            7.8              0.76         0.04             2.3      0.092   \n",
       "3           11.2              0.28         0.56             1.9      0.075   \n",
       "4            7.4              0.70         0.00             1.9      0.076   \n",
       "\n",
       "   free sulfur dioxide  total sulfur dioxide  density    pH  sulphates  \\\n",
       "0                 11.0                  34.0   0.9978  3.51       0.56   \n",
       "1                 25.0                  67.0   0.9968  3.20       0.68   \n",
       "2                 15.0                  54.0   0.9970  3.26       0.65   \n",
       "3                 17.0                  60.0   0.9980  3.16       0.58   \n",
       "4                 11.0                  34.0   0.9978  3.51       0.56   \n",
       "\n",
       "   alcohol  quality  \n",
       "0      9.4        5  \n",
       "1      9.8        5  \n",
       "2      9.8        5  \n",
       "3      9.8        6  \n",
       "4      9.4        5  "
      ]
     },
     "execution_count": 6,
     "metadata": {},
     "output_type": "execute_result"
    }
   ],
   "source": [
    "red_wine_df.head()"
   ]
  },
  {
   "cell_type": "markdown",
   "id": "edf1d8d3-51c9-4b5a-99e8-1ccb455b34fe",
   "metadata": {},
   "source": [
    "### 1.2) Winequality white"
   ]
  },
  {
   "cell_type": "code",
   "execution_count": 8,
   "id": "2519fef0-5f25-4bc8-a0ff-9caab0418db9",
   "metadata": {},
   "outputs": [],
   "source": [
    "url_white = \"https://raw.githubusercontent.com/foxdocs/cph-bi-2024/main/Data/UCL-Wine/winequality-white.csv\"\n",
    "\n",
    "white_wine_df = pd.read_csv(url_white, delimiter=\";\", header=0)"
   ]
  },
  {
   "cell_type": "code",
   "execution_count": 13,
   "id": "07ee2ecb-98c0-49f2-9ee7-3dd3f4c22166",
   "metadata": {},
   "outputs": [
    {
     "data": {
      "text/html": [
       "<div>\n",
       "<style scoped>\n",
       "    .dataframe tbody tr th:only-of-type {\n",
       "        vertical-align: middle;\n",
       "    }\n",
       "\n",
       "    .dataframe tbody tr th {\n",
       "        vertical-align: top;\n",
       "    }\n",
       "\n",
       "    .dataframe thead th {\n",
       "        text-align: right;\n",
       "    }\n",
       "</style>\n",
       "<table border=\"1\" class=\"dataframe\">\n",
       "  <thead>\n",
       "    <tr style=\"text-align: right;\">\n",
       "      <th></th>\n",
       "      <th>fixed acidity</th>\n",
       "      <th>volatile acidity</th>\n",
       "      <th>citric acid</th>\n",
       "      <th>residual sugar</th>\n",
       "      <th>chlorides</th>\n",
       "      <th>free sulfur dioxide</th>\n",
       "      <th>total sulfur dioxide</th>\n",
       "      <th>density</th>\n",
       "      <th>pH</th>\n",
       "      <th>sulphates</th>\n",
       "      <th>alcohol</th>\n",
       "      <th>quality</th>\n",
       "    </tr>\n",
       "  </thead>\n",
       "  <tbody>\n",
       "    <tr>\n",
       "      <th>0</th>\n",
       "      <td>7.0</td>\n",
       "      <td>0.27</td>\n",
       "      <td>0.36</td>\n",
       "      <td>20.7</td>\n",
       "      <td>0.045</td>\n",
       "      <td>45.0</td>\n",
       "      <td>170.0</td>\n",
       "      <td>1.0010</td>\n",
       "      <td>3.00</td>\n",
       "      <td>0.45</td>\n",
       "      <td>8.8</td>\n",
       "      <td>6</td>\n",
       "    </tr>\n",
       "    <tr>\n",
       "      <th>1</th>\n",
       "      <td>6.3</td>\n",
       "      <td>0.30</td>\n",
       "      <td>0.34</td>\n",
       "      <td>1.6</td>\n",
       "      <td>0.049</td>\n",
       "      <td>14.0</td>\n",
       "      <td>132.0</td>\n",
       "      <td>0.9940</td>\n",
       "      <td>3.30</td>\n",
       "      <td>0.49</td>\n",
       "      <td>9.5</td>\n",
       "      <td>6</td>\n",
       "    </tr>\n",
       "    <tr>\n",
       "      <th>2</th>\n",
       "      <td>8.1</td>\n",
       "      <td>0.28</td>\n",
       "      <td>0.40</td>\n",
       "      <td>6.9</td>\n",
       "      <td>0.050</td>\n",
       "      <td>30.0</td>\n",
       "      <td>97.0</td>\n",
       "      <td>0.9951</td>\n",
       "      <td>3.26</td>\n",
       "      <td>0.44</td>\n",
       "      <td>10.1</td>\n",
       "      <td>6</td>\n",
       "    </tr>\n",
       "    <tr>\n",
       "      <th>3</th>\n",
       "      <td>7.2</td>\n",
       "      <td>0.23</td>\n",
       "      <td>0.32</td>\n",
       "      <td>8.5</td>\n",
       "      <td>0.058</td>\n",
       "      <td>47.0</td>\n",
       "      <td>186.0</td>\n",
       "      <td>0.9956</td>\n",
       "      <td>3.19</td>\n",
       "      <td>0.40</td>\n",
       "      <td>9.9</td>\n",
       "      <td>6</td>\n",
       "    </tr>\n",
       "    <tr>\n",
       "      <th>4</th>\n",
       "      <td>7.2</td>\n",
       "      <td>0.23</td>\n",
       "      <td>0.32</td>\n",
       "      <td>8.5</td>\n",
       "      <td>0.058</td>\n",
       "      <td>47.0</td>\n",
       "      <td>186.0</td>\n",
       "      <td>0.9956</td>\n",
       "      <td>3.19</td>\n",
       "      <td>0.40</td>\n",
       "      <td>9.9</td>\n",
       "      <td>6</td>\n",
       "    </tr>\n",
       "  </tbody>\n",
       "</table>\n",
       "</div>"
      ],
      "text/plain": [
       "   fixed acidity  volatile acidity  citric acid  residual sugar  chlorides  \\\n",
       "0            7.0              0.27         0.36            20.7      0.045   \n",
       "1            6.3              0.30         0.34             1.6      0.049   \n",
       "2            8.1              0.28         0.40             6.9      0.050   \n",
       "3            7.2              0.23         0.32             8.5      0.058   \n",
       "4            7.2              0.23         0.32             8.5      0.058   \n",
       "\n",
       "   free sulfur dioxide  total sulfur dioxide  density    pH  sulphates  \\\n",
       "0                 45.0                 170.0   1.0010  3.00       0.45   \n",
       "1                 14.0                 132.0   0.9940  3.30       0.49   \n",
       "2                 30.0                  97.0   0.9951  3.26       0.44   \n",
       "3                 47.0                 186.0   0.9956  3.19       0.40   \n",
       "4                 47.0                 186.0   0.9956  3.19       0.40   \n",
       "\n",
       "   alcohol  quality  \n",
       "0      8.8        6  \n",
       "1      9.5        6  \n",
       "2     10.1        6  \n",
       "3      9.9        6  \n",
       "4      9.9        6  "
      ]
     },
     "execution_count": 13,
     "metadata": {},
     "output_type": "execute_result"
    }
   ],
   "source": [
    "white_wine_df.head()"
   ]
  },
  {
   "cell_type": "code",
   "execution_count": 15,
   "id": "3b2c5145-2446-4bc5-a7d7-b618f0757f70",
   "metadata": {},
   "outputs": [
    {
     "data": {
      "text/plain": [
       "fixed acidity           float64\n",
       "volatile acidity        float64\n",
       "citric acid             float64\n",
       "residual sugar          float64\n",
       "chlorides               float64\n",
       "free sulfur dioxide     float64\n",
       "total sulfur dioxide    float64\n",
       "density                 float64\n",
       "pH                      float64\n",
       "sulphates               float64\n",
       "alcohol                 float64\n",
       "quality                   int64\n",
       "dtype: object"
      ]
     },
     "execution_count": 15,
     "metadata": {},
     "output_type": "execute_result"
    }
   ],
   "source": [
    "white_wine_df.dtypes\n"
   ]
  },
  {
   "cell_type": "markdown",
   "id": "ca0ab71a-7e9a-48dd-9328-dc034ae212c1",
   "metadata": {},
   "source": [
    "## 2) Cleaning the data"
   ]
  },
  {
   "cell_type": "markdown",
   "id": "05b347fa-5fe6-43fc-ab38-a891304fc838",
   "metadata": {},
   "source": [
    "### 2.0) General exploration"
   ]
  },
  {
   "cell_type": "markdown",
   "id": "7eb48e2c-e7ae-4235-adfc-03a2852788b6",
   "metadata": {},
   "source": [
    "#### 2.0.1) Red Wine"
   ]
  },
  {
   "cell_type": "code",
   "execution_count": 20,
   "id": "4495cad9-2a64-45e4-bb8a-ea495b7b11df",
   "metadata": {},
   "outputs": [
    {
     "name": "stdout",
     "output_type": "stream",
     "text": [
      "<class 'pandas.core.frame.DataFrame'>\n",
      "RangeIndex: 1599 entries, 0 to 1598\n",
      "Data columns (total 12 columns):\n",
      " #   Column                Non-Null Count  Dtype  \n",
      "---  ------                --------------  -----  \n",
      " 0   fixed acidity         1599 non-null   float64\n",
      " 1   volatile acidity      1599 non-null   float64\n",
      " 2   citric acid           1599 non-null   float64\n",
      " 3   residual sugar        1599 non-null   float64\n",
      " 4   chlorides             1599 non-null   float64\n",
      " 5   free sulfur dioxide   1599 non-null   float64\n",
      " 6   total sulfur dioxide  1599 non-null   float64\n",
      " 7   density               1599 non-null   float64\n",
      " 8   pH                    1599 non-null   float64\n",
      " 9   sulphates             1599 non-null   float64\n",
      " 10  alcohol               1599 non-null   float64\n",
      " 11  quality               1599 non-null   int64  \n",
      "dtypes: float64(11), int64(1)\n",
      "memory usage: 150.0 KB\n"
     ]
    }
   ],
   "source": [
    "red_wine_df.info()"
   ]
  },
  {
   "cell_type": "code",
   "execution_count": 22,
   "id": "d61e1556-8104-4d68-9e3b-f945cb636946",
   "metadata": {},
   "outputs": [
    {
     "data": {
      "text/html": [
       "<div>\n",
       "<style scoped>\n",
       "    .dataframe tbody tr th:only-of-type {\n",
       "        vertical-align: middle;\n",
       "    }\n",
       "\n",
       "    .dataframe tbody tr th {\n",
       "        vertical-align: top;\n",
       "    }\n",
       "\n",
       "    .dataframe thead th {\n",
       "        text-align: right;\n",
       "    }\n",
       "</style>\n",
       "<table border=\"1\" class=\"dataframe\">\n",
       "  <thead>\n",
       "    <tr style=\"text-align: right;\">\n",
       "      <th></th>\n",
       "      <th>fixed acidity</th>\n",
       "      <th>volatile acidity</th>\n",
       "      <th>citric acid</th>\n",
       "      <th>residual sugar</th>\n",
       "      <th>chlorides</th>\n",
       "      <th>free sulfur dioxide</th>\n",
       "      <th>total sulfur dioxide</th>\n",
       "      <th>density</th>\n",
       "      <th>pH</th>\n",
       "      <th>sulphates</th>\n",
       "      <th>alcohol</th>\n",
       "      <th>quality</th>\n",
       "    </tr>\n",
       "  </thead>\n",
       "  <tbody>\n",
       "    <tr>\n",
       "      <th>count</th>\n",
       "      <td>1599.000000</td>\n",
       "      <td>1599.000000</td>\n",
       "      <td>1599.000000</td>\n",
       "      <td>1599.000000</td>\n",
       "      <td>1599.000000</td>\n",
       "      <td>1599.000000</td>\n",
       "      <td>1599.000000</td>\n",
       "      <td>1599.000000</td>\n",
       "      <td>1599.000000</td>\n",
       "      <td>1599.000000</td>\n",
       "      <td>1599.000000</td>\n",
       "      <td>1599.000000</td>\n",
       "    </tr>\n",
       "    <tr>\n",
       "      <th>mean</th>\n",
       "      <td>8.319637</td>\n",
       "      <td>0.527821</td>\n",
       "      <td>0.270976</td>\n",
       "      <td>2.538806</td>\n",
       "      <td>0.087467</td>\n",
       "      <td>15.874922</td>\n",
       "      <td>46.467792</td>\n",
       "      <td>0.996747</td>\n",
       "      <td>3.311113</td>\n",
       "      <td>0.658149</td>\n",
       "      <td>10.422983</td>\n",
       "      <td>5.636023</td>\n",
       "    </tr>\n",
       "    <tr>\n",
       "      <th>std</th>\n",
       "      <td>1.741096</td>\n",
       "      <td>0.179060</td>\n",
       "      <td>0.194801</td>\n",
       "      <td>1.409928</td>\n",
       "      <td>0.047065</td>\n",
       "      <td>10.460157</td>\n",
       "      <td>32.895324</td>\n",
       "      <td>0.001887</td>\n",
       "      <td>0.154386</td>\n",
       "      <td>0.169507</td>\n",
       "      <td>1.065668</td>\n",
       "      <td>0.807569</td>\n",
       "    </tr>\n",
       "    <tr>\n",
       "      <th>min</th>\n",
       "      <td>4.600000</td>\n",
       "      <td>0.120000</td>\n",
       "      <td>0.000000</td>\n",
       "      <td>0.900000</td>\n",
       "      <td>0.012000</td>\n",
       "      <td>1.000000</td>\n",
       "      <td>6.000000</td>\n",
       "      <td>0.990070</td>\n",
       "      <td>2.740000</td>\n",
       "      <td>0.330000</td>\n",
       "      <td>8.400000</td>\n",
       "      <td>3.000000</td>\n",
       "    </tr>\n",
       "    <tr>\n",
       "      <th>25%</th>\n",
       "      <td>7.100000</td>\n",
       "      <td>0.390000</td>\n",
       "      <td>0.090000</td>\n",
       "      <td>1.900000</td>\n",
       "      <td>0.070000</td>\n",
       "      <td>7.000000</td>\n",
       "      <td>22.000000</td>\n",
       "      <td>0.995600</td>\n",
       "      <td>3.210000</td>\n",
       "      <td>0.550000</td>\n",
       "      <td>9.500000</td>\n",
       "      <td>5.000000</td>\n",
       "    </tr>\n",
       "    <tr>\n",
       "      <th>50%</th>\n",
       "      <td>7.900000</td>\n",
       "      <td>0.520000</td>\n",
       "      <td>0.260000</td>\n",
       "      <td>2.200000</td>\n",
       "      <td>0.079000</td>\n",
       "      <td>14.000000</td>\n",
       "      <td>38.000000</td>\n",
       "      <td>0.996750</td>\n",
       "      <td>3.310000</td>\n",
       "      <td>0.620000</td>\n",
       "      <td>10.200000</td>\n",
       "      <td>6.000000</td>\n",
       "    </tr>\n",
       "    <tr>\n",
       "      <th>75%</th>\n",
       "      <td>9.200000</td>\n",
       "      <td>0.640000</td>\n",
       "      <td>0.420000</td>\n",
       "      <td>2.600000</td>\n",
       "      <td>0.090000</td>\n",
       "      <td>21.000000</td>\n",
       "      <td>62.000000</td>\n",
       "      <td>0.997835</td>\n",
       "      <td>3.400000</td>\n",
       "      <td>0.730000</td>\n",
       "      <td>11.100000</td>\n",
       "      <td>6.000000</td>\n",
       "    </tr>\n",
       "    <tr>\n",
       "      <th>max</th>\n",
       "      <td>15.900000</td>\n",
       "      <td>1.580000</td>\n",
       "      <td>1.000000</td>\n",
       "      <td>15.500000</td>\n",
       "      <td>0.611000</td>\n",
       "      <td>72.000000</td>\n",
       "      <td>289.000000</td>\n",
       "      <td>1.003690</td>\n",
       "      <td>4.010000</td>\n",
       "      <td>2.000000</td>\n",
       "      <td>14.900000</td>\n",
       "      <td>8.000000</td>\n",
       "    </tr>\n",
       "  </tbody>\n",
       "</table>\n",
       "</div>"
      ],
      "text/plain": [
       "       fixed acidity  volatile acidity  citric acid  residual sugar  \\\n",
       "count    1599.000000       1599.000000  1599.000000     1599.000000   \n",
       "mean        8.319637          0.527821     0.270976        2.538806   \n",
       "std         1.741096          0.179060     0.194801        1.409928   \n",
       "min         4.600000          0.120000     0.000000        0.900000   \n",
       "25%         7.100000          0.390000     0.090000        1.900000   \n",
       "50%         7.900000          0.520000     0.260000        2.200000   \n",
       "75%         9.200000          0.640000     0.420000        2.600000   \n",
       "max        15.900000          1.580000     1.000000       15.500000   \n",
       "\n",
       "         chlorides  free sulfur dioxide  total sulfur dioxide      density  \\\n",
       "count  1599.000000          1599.000000           1599.000000  1599.000000   \n",
       "mean      0.087467            15.874922             46.467792     0.996747   \n",
       "std       0.047065            10.460157             32.895324     0.001887   \n",
       "min       0.012000             1.000000              6.000000     0.990070   \n",
       "25%       0.070000             7.000000             22.000000     0.995600   \n",
       "50%       0.079000            14.000000             38.000000     0.996750   \n",
       "75%       0.090000            21.000000             62.000000     0.997835   \n",
       "max       0.611000            72.000000            289.000000     1.003690   \n",
       "\n",
       "                pH    sulphates      alcohol      quality  \n",
       "count  1599.000000  1599.000000  1599.000000  1599.000000  \n",
       "mean      3.311113     0.658149    10.422983     5.636023  \n",
       "std       0.154386     0.169507     1.065668     0.807569  \n",
       "min       2.740000     0.330000     8.400000     3.000000  \n",
       "25%       3.210000     0.550000     9.500000     5.000000  \n",
       "50%       3.310000     0.620000    10.200000     6.000000  \n",
       "75%       3.400000     0.730000    11.100000     6.000000  \n",
       "max       4.010000     2.000000    14.900000     8.000000  "
      ]
     },
     "execution_count": 22,
     "metadata": {},
     "output_type": "execute_result"
    }
   ],
   "source": [
    "red_wine_df.describe()"
   ]
  },
  {
   "cell_type": "markdown",
   "id": "191030fa-23d9-4b1b-8b8d-3b576b264f70",
   "metadata": {},
   "source": [
    "#### 2.0.2) White wine "
   ]
  },
  {
   "cell_type": "code",
   "execution_count": 25,
   "id": "caf65db0-df46-40bc-a8a6-f3d45148ab68",
   "metadata": {},
   "outputs": [
    {
     "name": "stdout",
     "output_type": "stream",
     "text": [
      "<class 'pandas.core.frame.DataFrame'>\n",
      "RangeIndex: 4898 entries, 0 to 4897\n",
      "Data columns (total 12 columns):\n",
      " #   Column                Non-Null Count  Dtype  \n",
      "---  ------                --------------  -----  \n",
      " 0   fixed acidity         4898 non-null   float64\n",
      " 1   volatile acidity      4898 non-null   float64\n",
      " 2   citric acid           4898 non-null   float64\n",
      " 3   residual sugar        4898 non-null   float64\n",
      " 4   chlorides             4898 non-null   float64\n",
      " 5   free sulfur dioxide   4898 non-null   float64\n",
      " 6   total sulfur dioxide  4898 non-null   float64\n",
      " 7   density               4898 non-null   float64\n",
      " 8   pH                    4898 non-null   float64\n",
      " 9   sulphates             4898 non-null   float64\n",
      " 10  alcohol               4898 non-null   float64\n",
      " 11  quality               4898 non-null   int64  \n",
      "dtypes: float64(11), int64(1)\n",
      "memory usage: 459.3 KB\n"
     ]
    }
   ],
   "source": [
    "white_wine_df.info()"
   ]
  },
  {
   "cell_type": "code",
   "execution_count": 27,
   "id": "2be508c5-bdd3-4a92-9785-2a3593789e3d",
   "metadata": {},
   "outputs": [
    {
     "data": {
      "text/html": [
       "<div>\n",
       "<style scoped>\n",
       "    .dataframe tbody tr th:only-of-type {\n",
       "        vertical-align: middle;\n",
       "    }\n",
       "\n",
       "    .dataframe tbody tr th {\n",
       "        vertical-align: top;\n",
       "    }\n",
       "\n",
       "    .dataframe thead th {\n",
       "        text-align: right;\n",
       "    }\n",
       "</style>\n",
       "<table border=\"1\" class=\"dataframe\">\n",
       "  <thead>\n",
       "    <tr style=\"text-align: right;\">\n",
       "      <th></th>\n",
       "      <th>fixed acidity</th>\n",
       "      <th>volatile acidity</th>\n",
       "      <th>citric acid</th>\n",
       "      <th>residual sugar</th>\n",
       "      <th>chlorides</th>\n",
       "      <th>free sulfur dioxide</th>\n",
       "      <th>total sulfur dioxide</th>\n",
       "      <th>density</th>\n",
       "      <th>pH</th>\n",
       "      <th>sulphates</th>\n",
       "      <th>alcohol</th>\n",
       "      <th>quality</th>\n",
       "    </tr>\n",
       "  </thead>\n",
       "  <tbody>\n",
       "    <tr>\n",
       "      <th>count</th>\n",
       "      <td>4898.000000</td>\n",
       "      <td>4898.000000</td>\n",
       "      <td>4898.000000</td>\n",
       "      <td>4898.000000</td>\n",
       "      <td>4898.000000</td>\n",
       "      <td>4898.000000</td>\n",
       "      <td>4898.000000</td>\n",
       "      <td>4898.000000</td>\n",
       "      <td>4898.000000</td>\n",
       "      <td>4898.000000</td>\n",
       "      <td>4898.000000</td>\n",
       "      <td>4898.000000</td>\n",
       "    </tr>\n",
       "    <tr>\n",
       "      <th>mean</th>\n",
       "      <td>6.854788</td>\n",
       "      <td>0.278241</td>\n",
       "      <td>0.334192</td>\n",
       "      <td>6.391415</td>\n",
       "      <td>0.045772</td>\n",
       "      <td>35.308085</td>\n",
       "      <td>138.360657</td>\n",
       "      <td>0.994027</td>\n",
       "      <td>3.188267</td>\n",
       "      <td>0.489847</td>\n",
       "      <td>10.514267</td>\n",
       "      <td>5.877909</td>\n",
       "    </tr>\n",
       "    <tr>\n",
       "      <th>std</th>\n",
       "      <td>0.843868</td>\n",
       "      <td>0.100795</td>\n",
       "      <td>0.121020</td>\n",
       "      <td>5.072058</td>\n",
       "      <td>0.021848</td>\n",
       "      <td>17.007137</td>\n",
       "      <td>42.498065</td>\n",
       "      <td>0.002991</td>\n",
       "      <td>0.151001</td>\n",
       "      <td>0.114126</td>\n",
       "      <td>1.230621</td>\n",
       "      <td>0.885639</td>\n",
       "    </tr>\n",
       "    <tr>\n",
       "      <th>min</th>\n",
       "      <td>3.800000</td>\n",
       "      <td>0.080000</td>\n",
       "      <td>0.000000</td>\n",
       "      <td>0.600000</td>\n",
       "      <td>0.009000</td>\n",
       "      <td>2.000000</td>\n",
       "      <td>9.000000</td>\n",
       "      <td>0.987110</td>\n",
       "      <td>2.720000</td>\n",
       "      <td>0.220000</td>\n",
       "      <td>8.000000</td>\n",
       "      <td>3.000000</td>\n",
       "    </tr>\n",
       "    <tr>\n",
       "      <th>25%</th>\n",
       "      <td>6.300000</td>\n",
       "      <td>0.210000</td>\n",
       "      <td>0.270000</td>\n",
       "      <td>1.700000</td>\n",
       "      <td>0.036000</td>\n",
       "      <td>23.000000</td>\n",
       "      <td>108.000000</td>\n",
       "      <td>0.991723</td>\n",
       "      <td>3.090000</td>\n",
       "      <td>0.410000</td>\n",
       "      <td>9.500000</td>\n",
       "      <td>5.000000</td>\n",
       "    </tr>\n",
       "    <tr>\n",
       "      <th>50%</th>\n",
       "      <td>6.800000</td>\n",
       "      <td>0.260000</td>\n",
       "      <td>0.320000</td>\n",
       "      <td>5.200000</td>\n",
       "      <td>0.043000</td>\n",
       "      <td>34.000000</td>\n",
       "      <td>134.000000</td>\n",
       "      <td>0.993740</td>\n",
       "      <td>3.180000</td>\n",
       "      <td>0.470000</td>\n",
       "      <td>10.400000</td>\n",
       "      <td>6.000000</td>\n",
       "    </tr>\n",
       "    <tr>\n",
       "      <th>75%</th>\n",
       "      <td>7.300000</td>\n",
       "      <td>0.320000</td>\n",
       "      <td>0.390000</td>\n",
       "      <td>9.900000</td>\n",
       "      <td>0.050000</td>\n",
       "      <td>46.000000</td>\n",
       "      <td>167.000000</td>\n",
       "      <td>0.996100</td>\n",
       "      <td>3.280000</td>\n",
       "      <td>0.550000</td>\n",
       "      <td>11.400000</td>\n",
       "      <td>6.000000</td>\n",
       "    </tr>\n",
       "    <tr>\n",
       "      <th>max</th>\n",
       "      <td>14.200000</td>\n",
       "      <td>1.100000</td>\n",
       "      <td>1.660000</td>\n",
       "      <td>65.800000</td>\n",
       "      <td>0.346000</td>\n",
       "      <td>289.000000</td>\n",
       "      <td>440.000000</td>\n",
       "      <td>1.038980</td>\n",
       "      <td>3.820000</td>\n",
       "      <td>1.080000</td>\n",
       "      <td>14.200000</td>\n",
       "      <td>9.000000</td>\n",
       "    </tr>\n",
       "  </tbody>\n",
       "</table>\n",
       "</div>"
      ],
      "text/plain": [
       "       fixed acidity  volatile acidity  citric acid  residual sugar  \\\n",
       "count    4898.000000       4898.000000  4898.000000     4898.000000   \n",
       "mean        6.854788          0.278241     0.334192        6.391415   \n",
       "std         0.843868          0.100795     0.121020        5.072058   \n",
       "min         3.800000          0.080000     0.000000        0.600000   \n",
       "25%         6.300000          0.210000     0.270000        1.700000   \n",
       "50%         6.800000          0.260000     0.320000        5.200000   \n",
       "75%         7.300000          0.320000     0.390000        9.900000   \n",
       "max        14.200000          1.100000     1.660000       65.800000   \n",
       "\n",
       "         chlorides  free sulfur dioxide  total sulfur dioxide      density  \\\n",
       "count  4898.000000          4898.000000           4898.000000  4898.000000   \n",
       "mean      0.045772            35.308085            138.360657     0.994027   \n",
       "std       0.021848            17.007137             42.498065     0.002991   \n",
       "min       0.009000             2.000000              9.000000     0.987110   \n",
       "25%       0.036000            23.000000            108.000000     0.991723   \n",
       "50%       0.043000            34.000000            134.000000     0.993740   \n",
       "75%       0.050000            46.000000            167.000000     0.996100   \n",
       "max       0.346000           289.000000            440.000000     1.038980   \n",
       "\n",
       "                pH    sulphates      alcohol      quality  \n",
       "count  4898.000000  4898.000000  4898.000000  4898.000000  \n",
       "mean      3.188267     0.489847    10.514267     5.877909  \n",
       "std       0.151001     0.114126     1.230621     0.885639  \n",
       "min       2.720000     0.220000     8.000000     3.000000  \n",
       "25%       3.090000     0.410000     9.500000     5.000000  \n",
       "50%       3.180000     0.470000    10.400000     6.000000  \n",
       "75%       3.280000     0.550000    11.400000     6.000000  \n",
       "max       3.820000     1.080000    14.200000     9.000000  "
      ]
     },
     "execution_count": 27,
     "metadata": {},
     "output_type": "execute_result"
    }
   ],
   "source": [
    "white_wine_df.describe()"
   ]
  },
  {
   "cell_type": "markdown",
   "id": "a0d886c7-ec69-4e0f-b3d7-33b99cb4fb36",
   "metadata": {},
   "source": [
    "### 2.1) Exploring the missing values"
   ]
  },
  {
   "cell_type": "markdown",
   "id": "c8c19312-256d-48bc-8a7a-4e1dcea0e5d2",
   "metadata": {},
   "source": [
    "#### 2.1.1) Red Wine"
   ]
  },
  {
   "cell_type": "code",
   "execution_count": 31,
   "id": "75047104-debb-4935-9e3b-6a572faba538",
   "metadata": {},
   "outputs": [
    {
     "data": {
      "text/plain": [
       "fixed acidity           0\n",
       "volatile acidity        0\n",
       "citric acid             0\n",
       "residual sugar          0\n",
       "chlorides               0\n",
       "free sulfur dioxide     0\n",
       "total sulfur dioxide    0\n",
       "density                 0\n",
       "pH                      0\n",
       "sulphates               0\n",
       "alcohol                 0\n",
       "quality                 0\n",
       "dtype: int64"
      ]
     },
     "execution_count": 31,
     "metadata": {},
     "output_type": "execute_result"
    }
   ],
   "source": [
    "red_wine_df.isna().sum()"
   ]
  },
  {
   "cell_type": "markdown",
   "id": "083f6e51-1f22-4a2c-b81a-caedd48c36cc",
   "metadata": {},
   "source": [
    "#### 2.1.2) White Wine"
   ]
  },
  {
   "cell_type": "code",
   "execution_count": 34,
   "id": "1b348358-a6ac-4270-919e-22701ea6dbe3",
   "metadata": {},
   "outputs": [
    {
     "data": {
      "text/plain": [
       "fixed acidity           0\n",
       "volatile acidity        0\n",
       "citric acid             0\n",
       "residual sugar          0\n",
       "chlorides               0\n",
       "free sulfur dioxide     0\n",
       "total sulfur dioxide    0\n",
       "density                 0\n",
       "pH                      0\n",
       "sulphates               0\n",
       "alcohol                 0\n",
       "quality                 0\n",
       "dtype: int64"
      ]
     },
     "execution_count": 34,
     "metadata": {},
     "output_type": "execute_result"
    }
   ],
   "source": [
    "white_wine_df.isna().sum()"
   ]
  },
  {
   "cell_type": "markdown",
   "id": "686b8990-e5d5-4b37-af3f-3b45a62975e1",
   "metadata": {},
   "source": [
    "### 2.2) Removing duplicates"
   ]
  },
  {
   "cell_type": "markdown",
   "id": "106c04bd-83ad-4031-9559-815564edd14e",
   "metadata": {},
   "source": [
    "#### 2.2.1) Red Wine"
   ]
  },
  {
   "cell_type": "code",
   "execution_count": 38,
   "id": "0ec098d7-9d2a-4e69-b720-5b9a765c2c6f",
   "metadata": {},
   "outputs": [
    {
     "data": {
      "text/plain": [
       "240"
      ]
     },
     "execution_count": 38,
     "metadata": {},
     "output_type": "execute_result"
    }
   ],
   "source": [
    "duplicates_rw = red_wine_df.duplicated(keep='first').sum()\n",
    "duplicates_rw"
   ]
  },
  {
   "cell_type": "code",
   "execution_count": 40,
   "id": "a08cff57-b018-4051-867a-eee588b184e3",
   "metadata": {},
   "outputs": [
    {
     "data": {
      "text/plain": [
       "1359"
      ]
     },
     "execution_count": 40,
     "metadata": {},
     "output_type": "execute_result"
    }
   ],
   "source": [
    "red_wine_df_f2 = red_wine_df.drop_duplicates()\n",
    "red_wine_df_f2.shape[0]"
   ]
  },
  {
   "cell_type": "markdown",
   "id": "4b30ab0b-5dca-4e16-9511-b1380300b467",
   "metadata": {},
   "source": [
    "#### 2.2.2) White wine"
   ]
  },
  {
   "cell_type": "code",
   "execution_count": 43,
   "id": "fc0c9a9d-8854-4cc6-8c75-205765d47676",
   "metadata": {},
   "outputs": [
    {
     "data": {
      "text/plain": [
       "937"
      ]
     },
     "execution_count": 43,
     "metadata": {},
     "output_type": "execute_result"
    }
   ],
   "source": [
    "duplicates_ww = white_wine_df.duplicated(keep='first').sum()\n",
    "duplicates_ww"
   ]
  },
  {
   "cell_type": "code",
   "execution_count": 45,
   "id": "611ddeaf-bb72-40e5-91bb-3183dd8c144c",
   "metadata": {},
   "outputs": [
    {
     "data": {
      "text/plain": [
       "3961"
      ]
     },
     "execution_count": 45,
     "metadata": {},
     "output_type": "execute_result"
    }
   ],
   "source": [
    "white_wine_df_f2 = white_wine_df.drop_duplicates()\n",
    "white_wine_df_f2.shape[0]"
   ]
  },
  {
   "cell_type": "markdown",
   "id": "a3caf84f-af98-4cb2-9543-c32463cc19dc",
   "metadata": {},
   "source": [
    "## 3) Aggregating the two files"
   ]
  },
  {
   "cell_type": "markdown",
   "id": "342c23b7-9079-4d45-8b9d-17eb59edcfb7",
   "metadata": {},
   "source": [
    "### 3.1) Adding columns to the two data frames"
   ]
  },
  {
   "cell_type": "code",
   "execution_count": 49,
   "id": "c0bd34df-4c04-4a15-8e90-306f2f58916c",
   "metadata": {},
   "outputs": [
    {
     "name": "stderr",
     "output_type": "stream",
     "text": [
      "C:\\Users\\acm11\\AppData\\Local\\Temp\\ipykernel_13800\\3092713722.py:1: SettingWithCopyWarning: \n",
      "A value is trying to be set on a copy of a slice from a DataFrame.\n",
      "Try using .loc[row_indexer,col_indexer] = value instead\n",
      "\n",
      "See the caveats in the documentation: https://pandas.pydata.org/pandas-docs/stable/user_guide/indexing.html#returning-a-view-versus-a-copy\n",
      "  red_wine_df_f2[\"wine type\"] = \"red\"\n",
      "C:\\Users\\acm11\\AppData\\Local\\Temp\\ipykernel_13800\\3092713722.py:2: SettingWithCopyWarning: \n",
      "A value is trying to be set on a copy of a slice from a DataFrame.\n",
      "Try using .loc[row_indexer,col_indexer] = value instead\n",
      "\n",
      "See the caveats in the documentation: https://pandas.pydata.org/pandas-docs/stable/user_guide/indexing.html#returning-a-view-versus-a-copy\n",
      "  white_wine_df_f2[\"wine type\"] = \"white\"\n"
     ]
    }
   ],
   "source": [
    "red_wine_df_f2[\"wine type\"] = \"red\"\n",
    "white_wine_df_f2[\"wine type\"] = \"white\"\n"
   ]
  },
  {
   "cell_type": "markdown",
   "id": "d7335b7c-bf04-4f82-833e-8ecac66d4774",
   "metadata": {},
   "source": [
    "### 3.2) Concatenating red_wine_df_f2 and white_wine_df_f2"
   ]
  },
  {
   "cell_type": "code",
   "execution_count": 52,
   "id": "52d01e2b-a3bb-48b7-b5c5-7093aea64809",
   "metadata": {},
   "outputs": [],
   "source": [
    "combined_wine_df = pd.concat([red_wine_df_f2, white_wine_df_f2], ignore_index=True)"
   ]
  },
  {
   "cell_type": "markdown",
   "id": "e656e14e-c915-4a94-88df-f877abbfca3d",
   "metadata": {},
   "source": [
    "## 4) General exploration of combined_wine_df"
   ]
  },
  {
   "cell_type": "code",
   "execution_count": 55,
   "id": "f62fc049-8e01-4391-89f2-245e15ceefc8",
   "metadata": {},
   "outputs": [
    {
     "data": {
      "text/html": [
       "<div>\n",
       "<style scoped>\n",
       "    .dataframe tbody tr th:only-of-type {\n",
       "        vertical-align: middle;\n",
       "    }\n",
       "\n",
       "    .dataframe tbody tr th {\n",
       "        vertical-align: top;\n",
       "    }\n",
       "\n",
       "    .dataframe thead th {\n",
       "        text-align: right;\n",
       "    }\n",
       "</style>\n",
       "<table border=\"1\" class=\"dataframe\">\n",
       "  <thead>\n",
       "    <tr style=\"text-align: right;\">\n",
       "      <th></th>\n",
       "      <th>fixed acidity</th>\n",
       "      <th>volatile acidity</th>\n",
       "      <th>citric acid</th>\n",
       "      <th>residual sugar</th>\n",
       "      <th>chlorides</th>\n",
       "      <th>free sulfur dioxide</th>\n",
       "      <th>total sulfur dioxide</th>\n",
       "      <th>density</th>\n",
       "      <th>pH</th>\n",
       "      <th>sulphates</th>\n",
       "      <th>alcohol</th>\n",
       "      <th>quality</th>\n",
       "      <th>wine type</th>\n",
       "    </tr>\n",
       "  </thead>\n",
       "  <tbody>\n",
       "    <tr>\n",
       "      <th>0</th>\n",
       "      <td>7.4</td>\n",
       "      <td>0.70</td>\n",
       "      <td>0.00</td>\n",
       "      <td>1.9</td>\n",
       "      <td>0.076</td>\n",
       "      <td>11.0</td>\n",
       "      <td>34.0</td>\n",
       "      <td>0.9978</td>\n",
       "      <td>3.51</td>\n",
       "      <td>0.56</td>\n",
       "      <td>9.4</td>\n",
       "      <td>5</td>\n",
       "      <td>red</td>\n",
       "    </tr>\n",
       "    <tr>\n",
       "      <th>1</th>\n",
       "      <td>7.8</td>\n",
       "      <td>0.88</td>\n",
       "      <td>0.00</td>\n",
       "      <td>2.6</td>\n",
       "      <td>0.098</td>\n",
       "      <td>25.0</td>\n",
       "      <td>67.0</td>\n",
       "      <td>0.9968</td>\n",
       "      <td>3.20</td>\n",
       "      <td>0.68</td>\n",
       "      <td>9.8</td>\n",
       "      <td>5</td>\n",
       "      <td>red</td>\n",
       "    </tr>\n",
       "    <tr>\n",
       "      <th>2</th>\n",
       "      <td>7.8</td>\n",
       "      <td>0.76</td>\n",
       "      <td>0.04</td>\n",
       "      <td>2.3</td>\n",
       "      <td>0.092</td>\n",
       "      <td>15.0</td>\n",
       "      <td>54.0</td>\n",
       "      <td>0.9970</td>\n",
       "      <td>3.26</td>\n",
       "      <td>0.65</td>\n",
       "      <td>9.8</td>\n",
       "      <td>5</td>\n",
       "      <td>red</td>\n",
       "    </tr>\n",
       "    <tr>\n",
       "      <th>3</th>\n",
       "      <td>11.2</td>\n",
       "      <td>0.28</td>\n",
       "      <td>0.56</td>\n",
       "      <td>1.9</td>\n",
       "      <td>0.075</td>\n",
       "      <td>17.0</td>\n",
       "      <td>60.0</td>\n",
       "      <td>0.9980</td>\n",
       "      <td>3.16</td>\n",
       "      <td>0.58</td>\n",
       "      <td>9.8</td>\n",
       "      <td>6</td>\n",
       "      <td>red</td>\n",
       "    </tr>\n",
       "    <tr>\n",
       "      <th>4</th>\n",
       "      <td>7.4</td>\n",
       "      <td>0.66</td>\n",
       "      <td>0.00</td>\n",
       "      <td>1.8</td>\n",
       "      <td>0.075</td>\n",
       "      <td>13.0</td>\n",
       "      <td>40.0</td>\n",
       "      <td>0.9978</td>\n",
       "      <td>3.51</td>\n",
       "      <td>0.56</td>\n",
       "      <td>9.4</td>\n",
       "      <td>5</td>\n",
       "      <td>red</td>\n",
       "    </tr>\n",
       "  </tbody>\n",
       "</table>\n",
       "</div>"
      ],
      "text/plain": [
       "   fixed acidity  volatile acidity  citric acid  residual sugar  chlorides  \\\n",
       "0            7.4              0.70         0.00             1.9      0.076   \n",
       "1            7.8              0.88         0.00             2.6      0.098   \n",
       "2            7.8              0.76         0.04             2.3      0.092   \n",
       "3           11.2              0.28         0.56             1.9      0.075   \n",
       "4            7.4              0.66         0.00             1.8      0.075   \n",
       "\n",
       "   free sulfur dioxide  total sulfur dioxide  density    pH  sulphates  \\\n",
       "0                 11.0                  34.0   0.9978  3.51       0.56   \n",
       "1                 25.0                  67.0   0.9968  3.20       0.68   \n",
       "2                 15.0                  54.0   0.9970  3.26       0.65   \n",
       "3                 17.0                  60.0   0.9980  3.16       0.58   \n",
       "4                 13.0                  40.0   0.9978  3.51       0.56   \n",
       "\n",
       "   alcohol  quality wine type  \n",
       "0      9.4        5       red  \n",
       "1      9.8        5       red  \n",
       "2      9.8        5       red  \n",
       "3      9.8        6       red  \n",
       "4      9.4        5       red  "
      ]
     },
     "execution_count": 55,
     "metadata": {},
     "output_type": "execute_result"
    }
   ],
   "source": [
    "combined_wine_df.head()"
   ]
  },
  {
   "cell_type": "code",
   "execution_count": 57,
   "id": "577b21a4-020d-405f-a08d-86c808887e83",
   "metadata": {},
   "outputs": [
    {
     "name": "stdout",
     "output_type": "stream",
     "text": [
      "<class 'pandas.core.frame.DataFrame'>\n",
      "RangeIndex: 5320 entries, 0 to 5319\n",
      "Data columns (total 13 columns):\n",
      " #   Column                Non-Null Count  Dtype  \n",
      "---  ------                --------------  -----  \n",
      " 0   fixed acidity         5320 non-null   float64\n",
      " 1   volatile acidity      5320 non-null   float64\n",
      " 2   citric acid           5320 non-null   float64\n",
      " 3   residual sugar        5320 non-null   float64\n",
      " 4   chlorides             5320 non-null   float64\n",
      " 5   free sulfur dioxide   5320 non-null   float64\n",
      " 6   total sulfur dioxide  5320 non-null   float64\n",
      " 7   density               5320 non-null   float64\n",
      " 8   pH                    5320 non-null   float64\n",
      " 9   sulphates             5320 non-null   float64\n",
      " 10  alcohol               5320 non-null   float64\n",
      " 11  quality               5320 non-null   int64  \n",
      " 12  wine type             5320 non-null   object \n",
      "dtypes: float64(11), int64(1), object(1)\n",
      "memory usage: 540.4+ KB\n"
     ]
    }
   ],
   "source": [
    "combined_wine_df.info()"
   ]
  },
  {
   "cell_type": "markdown",
   "id": "c4218404-9b35-49ca-822a-ae4b295cc96a",
   "metadata": {},
   "source": [
    "## 5) Calculating the decriptive statistics of the numeric data"
   ]
  },
  {
   "cell_type": "markdown",
   "id": "cc149206-23c5-4740-8069-572bb80efb87",
   "metadata": {},
   "source": [
    "### 5.1) Statistical descriptions of the values"
   ]
  },
  {
   "cell_type": "code",
   "execution_count": 61,
   "id": "78b513fb-f475-4659-b69d-a4a97fe06453",
   "metadata": {},
   "outputs": [
    {
     "data": {
      "text/html": [
       "<div>\n",
       "<style scoped>\n",
       "    .dataframe tbody tr th:only-of-type {\n",
       "        vertical-align: middle;\n",
       "    }\n",
       "\n",
       "    .dataframe tbody tr th {\n",
       "        vertical-align: top;\n",
       "    }\n",
       "\n",
       "    .dataframe thead th {\n",
       "        text-align: right;\n",
       "    }\n",
       "</style>\n",
       "<table border=\"1\" class=\"dataframe\">\n",
       "  <thead>\n",
       "    <tr style=\"text-align: right;\">\n",
       "      <th></th>\n",
       "      <th>fixed acidity</th>\n",
       "      <th>volatile acidity</th>\n",
       "      <th>citric acid</th>\n",
       "      <th>residual sugar</th>\n",
       "      <th>chlorides</th>\n",
       "      <th>free sulfur dioxide</th>\n",
       "      <th>total sulfur dioxide</th>\n",
       "      <th>density</th>\n",
       "      <th>pH</th>\n",
       "      <th>sulphates</th>\n",
       "      <th>alcohol</th>\n",
       "      <th>quality</th>\n",
       "    </tr>\n",
       "  </thead>\n",
       "  <tbody>\n",
       "    <tr>\n",
       "      <th>count</th>\n",
       "      <td>5320.000000</td>\n",
       "      <td>5320.000000</td>\n",
       "      <td>5320.000000</td>\n",
       "      <td>5320.000000</td>\n",
       "      <td>5320.000000</td>\n",
       "      <td>5320.000000</td>\n",
       "      <td>5320.000000</td>\n",
       "      <td>5320.000000</td>\n",
       "      <td>5320.000000</td>\n",
       "      <td>5320.000000</td>\n",
       "      <td>5320.000000</td>\n",
       "      <td>5320.000000</td>\n",
       "    </tr>\n",
       "    <tr>\n",
       "      <th>mean</th>\n",
       "      <td>7.215179</td>\n",
       "      <td>0.344130</td>\n",
       "      <td>0.318494</td>\n",
       "      <td>5.048477</td>\n",
       "      <td>0.056690</td>\n",
       "      <td>30.036654</td>\n",
       "      <td>114.109023</td>\n",
       "      <td>0.994535</td>\n",
       "      <td>3.224664</td>\n",
       "      <td>0.533357</td>\n",
       "      <td>10.549241</td>\n",
       "      <td>5.795677</td>\n",
       "    </tr>\n",
       "    <tr>\n",
       "      <th>std</th>\n",
       "      <td>1.319671</td>\n",
       "      <td>0.168248</td>\n",
       "      <td>0.147157</td>\n",
       "      <td>4.500180</td>\n",
       "      <td>0.036863</td>\n",
       "      <td>17.805045</td>\n",
       "      <td>56.774223</td>\n",
       "      <td>0.002966</td>\n",
       "      <td>0.160379</td>\n",
       "      <td>0.149743</td>\n",
       "      <td>1.185933</td>\n",
       "      <td>0.879772</td>\n",
       "    </tr>\n",
       "    <tr>\n",
       "      <th>min</th>\n",
       "      <td>3.800000</td>\n",
       "      <td>0.080000</td>\n",
       "      <td>0.000000</td>\n",
       "      <td>0.600000</td>\n",
       "      <td>0.009000</td>\n",
       "      <td>1.000000</td>\n",
       "      <td>6.000000</td>\n",
       "      <td>0.987110</td>\n",
       "      <td>2.720000</td>\n",
       "      <td>0.220000</td>\n",
       "      <td>8.000000</td>\n",
       "      <td>3.000000</td>\n",
       "    </tr>\n",
       "    <tr>\n",
       "      <th>25%</th>\n",
       "      <td>6.400000</td>\n",
       "      <td>0.230000</td>\n",
       "      <td>0.240000</td>\n",
       "      <td>1.800000</td>\n",
       "      <td>0.038000</td>\n",
       "      <td>16.000000</td>\n",
       "      <td>74.000000</td>\n",
       "      <td>0.992200</td>\n",
       "      <td>3.110000</td>\n",
       "      <td>0.430000</td>\n",
       "      <td>9.500000</td>\n",
       "      <td>5.000000</td>\n",
       "    </tr>\n",
       "    <tr>\n",
       "      <th>50%</th>\n",
       "      <td>7.000000</td>\n",
       "      <td>0.300000</td>\n",
       "      <td>0.310000</td>\n",
       "      <td>2.700000</td>\n",
       "      <td>0.047000</td>\n",
       "      <td>28.000000</td>\n",
       "      <td>116.000000</td>\n",
       "      <td>0.994650</td>\n",
       "      <td>3.210000</td>\n",
       "      <td>0.510000</td>\n",
       "      <td>10.400000</td>\n",
       "      <td>6.000000</td>\n",
       "    </tr>\n",
       "    <tr>\n",
       "      <th>75%</th>\n",
       "      <td>7.700000</td>\n",
       "      <td>0.410000</td>\n",
       "      <td>0.400000</td>\n",
       "      <td>7.500000</td>\n",
       "      <td>0.066000</td>\n",
       "      <td>41.000000</td>\n",
       "      <td>153.250000</td>\n",
       "      <td>0.996770</td>\n",
       "      <td>3.330000</td>\n",
       "      <td>0.600000</td>\n",
       "      <td>11.400000</td>\n",
       "      <td>6.000000</td>\n",
       "    </tr>\n",
       "    <tr>\n",
       "      <th>max</th>\n",
       "      <td>15.900000</td>\n",
       "      <td>1.580000</td>\n",
       "      <td>1.660000</td>\n",
       "      <td>65.800000</td>\n",
       "      <td>0.611000</td>\n",
       "      <td>289.000000</td>\n",
       "      <td>440.000000</td>\n",
       "      <td>1.038980</td>\n",
       "      <td>4.010000</td>\n",
       "      <td>2.000000</td>\n",
       "      <td>14.900000</td>\n",
       "      <td>9.000000</td>\n",
       "    </tr>\n",
       "  </tbody>\n",
       "</table>\n",
       "</div>"
      ],
      "text/plain": [
       "       fixed acidity  volatile acidity  citric acid  residual sugar  \\\n",
       "count    5320.000000       5320.000000  5320.000000     5320.000000   \n",
       "mean        7.215179          0.344130     0.318494        5.048477   \n",
       "std         1.319671          0.168248     0.147157        4.500180   \n",
       "min         3.800000          0.080000     0.000000        0.600000   \n",
       "25%         6.400000          0.230000     0.240000        1.800000   \n",
       "50%         7.000000          0.300000     0.310000        2.700000   \n",
       "75%         7.700000          0.410000     0.400000        7.500000   \n",
       "max        15.900000          1.580000     1.660000       65.800000   \n",
       "\n",
       "         chlorides  free sulfur dioxide  total sulfur dioxide      density  \\\n",
       "count  5320.000000          5320.000000           5320.000000  5320.000000   \n",
       "mean      0.056690            30.036654            114.109023     0.994535   \n",
       "std       0.036863            17.805045             56.774223     0.002966   \n",
       "min       0.009000             1.000000              6.000000     0.987110   \n",
       "25%       0.038000            16.000000             74.000000     0.992200   \n",
       "50%       0.047000            28.000000            116.000000     0.994650   \n",
       "75%       0.066000            41.000000            153.250000     0.996770   \n",
       "max       0.611000           289.000000            440.000000     1.038980   \n",
       "\n",
       "                pH    sulphates      alcohol      quality  \n",
       "count  5320.000000  5320.000000  5320.000000  5320.000000  \n",
       "mean      3.224664     0.533357    10.549241     5.795677  \n",
       "std       0.160379     0.149743     1.185933     0.879772  \n",
       "min       2.720000     0.220000     8.000000     3.000000  \n",
       "25%       3.110000     0.430000     9.500000     5.000000  \n",
       "50%       3.210000     0.510000    10.400000     6.000000  \n",
       "75%       3.330000     0.600000    11.400000     6.000000  \n",
       "max       4.010000     2.000000    14.900000     9.000000  "
      ]
     },
     "execution_count": 61,
     "metadata": {},
     "output_type": "execute_result"
    }
   ],
   "source": [
    "combined_wine_df.describe()"
   ]
  },
  {
   "cell_type": "markdown",
   "id": "572f2222-2d41-425d-b648-d2bbb2f1a171",
   "metadata": {},
   "source": [
    "### 5.2) Calculating the skewness of all the columns with numeric values"
   ]
  },
  {
   "cell_type": "markdown",
   "id": "f31effb5-1361-4c94-936d-7c7f856b3558",
   "metadata": {},
   "source": [
    "#### 5.2.1) Removing wine type (it isn't numerical)"
   ]
  },
  {
   "cell_type": "code",
   "execution_count": 65,
   "id": "450a874e-cc86-4047-bea8-93b6c2eaed37",
   "metadata": {},
   "outputs": [],
   "source": [
    "columns_to_exclude = [\"wine type\"]\n",
    "\n",
    "combined_wine_df_numerical = combined_wine_df.drop(columns = columns_to_exclude)"
   ]
  },
  {
   "cell_type": "markdown",
   "id": "d72ba624-54de-40f6-a72f-b52321051897",
   "metadata": {},
   "source": [
    "#### 5.2.2) Calculating the skewness of each column"
   ]
  },
  {
   "cell_type": "code",
   "execution_count": 68,
   "id": "2a00dda1-2187-479a-aada-4b77aa83dc16",
   "metadata": {},
   "outputs": [
    {
     "name": "stdout",
     "output_type": "stream",
     "text": [
      "fixed acidity           1.650417\n",
      "volatile acidity        1.504557\n",
      "citric acid             0.484309\n",
      "residual sugar          1.706550\n",
      "chlorides               5.338237\n",
      "free sulfur dioxide     1.362719\n",
      "total sulfur dioxide    0.063614\n",
      "density                 0.666326\n",
      "pH                      0.389969\n",
      "sulphates               1.809454\n",
      "alcohol                 0.545696\n",
      "quality                 0.147467\n",
      "dtype: float64\n"
     ]
    }
   ],
   "source": [
    "skewness = combined_wine_df_numerical.skew()\n",
    "\n",
    "print(skewness)"
   ]
  },
  {
   "cell_type": "markdown",
   "id": "a70da6a9-e217-4864-a7b2-68a6926bebf2",
   "metadata": {},
   "source": [
    "It seems like the following aren't normally distributed:  \n",
    "- fixed acidity\n",
    "- volatile acidity\n",
    "- residual sugar\n",
    "- chlorides\n",
    "- free sulfur dioxide\n",
    "- sulphates\n"
   ]
  },
  {
   "cell_type": "markdown",
   "id": "a8178063-cf7d-4218-91ee-7d43b401d690",
   "metadata": {},
   "source": [
    "### 5.3) Visualizing the columns with histograms"
   ]
  },
  {
   "cell_type": "code",
   "execution_count": 72,
   "id": "631a3426-2a58-4bf5-ab8c-8aa5390c0cf2",
   "metadata": {},
   "outputs": [
    {
     "data": {
      "text/plain": [
       "array([[<Axes: title={'center': 'fixed acidity'}>,\n",
       "        <Axes: title={'center': 'volatile acidity'}>,\n",
       "        <Axes: title={'center': 'citric acid'}>],\n",
       "       [<Axes: title={'center': 'residual sugar'}>,\n",
       "        <Axes: title={'center': 'chlorides'}>,\n",
       "        <Axes: title={'center': 'free sulfur dioxide'}>],\n",
       "       [<Axes: title={'center': 'total sulfur dioxide'}>,\n",
       "        <Axes: title={'center': 'density'}>,\n",
       "        <Axes: title={'center': 'pH'}>],\n",
       "       [<Axes: title={'center': 'sulphates'}>,\n",
       "        <Axes: title={'center': 'alcohol'}>,\n",
       "        <Axes: title={'center': 'quality'}>]], dtype=object)"
      ]
     },
     "execution_count": 72,
     "metadata": {},
     "output_type": "execute_result"
    },
    {
     "data": {
      "image/png": "[encoded data removed]",
      "text/plain": [
       "<Figure size 640x480 with 12 Axes>"
      ]
     },
     "metadata": {},
     "output_type": "display_data"
    }
   ],
   "source": [
    "combined_wine_df_numerical.hist()"
   ]
  },
  {
   "cell_type": "markdown",
   "id": "97609fbe-3747-4bc4-b9d3-bd1905fef909",
   "metadata": {},
   "source": [
    "#### 5.3.2) Histogram of quality  "
   ]
  },
  {
   "cell_type": "code",
   "execution_count": 75,
   "id": "bebbf141-0563-4576-873b-112587eba9c8",
   "metadata": {},
   "outputs": [
    {
     "data": {
      "image/png": "[encoded data removed]",
      "text/plain": [
       "<Figure size 640x480 with 1 Axes>"
      ]
     },
     "metadata": {},
     "output_type": "display_data"
    }
   ],
   "source": [
    "plt.hist(combined_wine_df_numerical['quality'], bins=6, edgecolor = 'red')\n",
    "plt.title(\"Histogram of quality of the wine\")\n",
    "\n",
    "plt.show()"
   ]
  },
  {
   "cell_type": "markdown",
   "id": "c2d17ba7-ff6b-4c98-9d49-32673bba1bbc",
   "metadata": {},
   "source": [
    "#### 5.3.2) Histogram of the chlorides"
   ]
  },
  {
   "cell_type": "code",
   "execution_count": 78,
   "id": "a47453f9-8429-49e8-954e-8ae6f46fc542",
   "metadata": {},
   "outputs": [
    {
     "data": {
      "image/png": "[encoded data removed]",
      "text/plain": [
       "<Figure size 640x480 with 1 Axes>"
      ]
     },
     "metadata": {},
     "output_type": "display_data"
    }
   ],
   "source": [
    "plt.hist(combined_wine_df_numerical['chlorides'], bins=100, edgecolor = 'red', color=\"pink\")\n",
    "plt.title(\"Histogram of chlorides in red and white wine\")\n",
    "\n",
    "plt.show()"
   ]
  },
  {
   "cell_type": "markdown",
   "id": "6d023dc8-4b15-4f3a-a63c-3349d6e798e7",
   "metadata": {},
   "source": [
    "##### 5.3.2.1) For fun: Checking chlorides will be normal distributed after outliers has been removed"
   ]
  },
  {
   "cell_type": "code",
   "execution_count": 83,
   "id": "1f10b939-42e9-4a66-9200-e99931bc15b9",
   "metadata": {},
   "outputs": [],
   "source": [
    "from bi_functions_tobias import calculate_outliers"
   ]
  },
  {
   "cell_type": "code",
   "execution_count": 95,
   "id": "974e48bd-3e51-4850-bb84-e323bb3e2f3d",
   "metadata": {},
   "outputs": [
    {
     "data": {
      "text/html": [
       "<div>\n",
       "<style scoped>\n",
       "    .dataframe tbody tr th:only-of-type {\n",
       "        vertical-align: middle;\n",
       "    }\n",
       "\n",
       "    .dataframe tbody tr th {\n",
       "        vertical-align: top;\n",
       "    }\n",
       "\n",
       "    .dataframe thead th {\n",
       "        text-align: right;\n",
       "    }\n",
       "</style>\n",
       "<table border=\"1\" class=\"dataframe\">\n",
       "  <thead>\n",
       "    <tr style=\"text-align: right;\">\n",
       "      <th></th>\n",
       "      <th>fixed acidity</th>\n",
       "      <th>volatile acidity</th>\n",
       "      <th>citric acid</th>\n",
       "      <th>residual sugar</th>\n",
       "      <th>chlorides</th>\n",
       "      <th>free sulfur dioxide</th>\n",
       "      <th>total sulfur dioxide</th>\n",
       "      <th>density</th>\n",
       "      <th>pH</th>\n",
       "      <th>sulphates</th>\n",
       "      <th>alcohol</th>\n",
       "      <th>quality</th>\n",
       "    </tr>\n",
       "  </thead>\n",
       "  <tbody>\n",
       "    <tr>\n",
       "      <th>0</th>\n",
       "      <td>7.4</td>\n",
       "      <td>0.70</td>\n",
       "      <td>0.00</td>\n",
       "      <td>1.9</td>\n",
       "      <td>0.076</td>\n",
       "      <td>11.0</td>\n",
       "      <td>34.0</td>\n",
       "      <td>0.9978</td>\n",
       "      <td>3.51</td>\n",
       "      <td>0.56</td>\n",
       "      <td>9.4</td>\n",
       "      <td>5</td>\n",
       "    </tr>\n",
       "    <tr>\n",
       "      <th>1</th>\n",
       "      <td>7.8</td>\n",
       "      <td>0.88</td>\n",
       "      <td>0.00</td>\n",
       "      <td>2.6</td>\n",
       "      <td>0.098</td>\n",
       "      <td>25.0</td>\n",
       "      <td>67.0</td>\n",
       "      <td>0.9968</td>\n",
       "      <td>3.20</td>\n",
       "      <td>0.68</td>\n",
       "      <td>9.8</td>\n",
       "      <td>5</td>\n",
       "    </tr>\n",
       "    <tr>\n",
       "      <th>2</th>\n",
       "      <td>7.8</td>\n",
       "      <td>0.76</td>\n",
       "      <td>0.04</td>\n",
       "      <td>2.3</td>\n",
       "      <td>0.092</td>\n",
       "      <td>15.0</td>\n",
       "      <td>54.0</td>\n",
       "      <td>0.9970</td>\n",
       "      <td>3.26</td>\n",
       "      <td>0.65</td>\n",
       "      <td>9.8</td>\n",
       "      <td>5</td>\n",
       "    </tr>\n",
       "    <tr>\n",
       "      <th>3</th>\n",
       "      <td>11.2</td>\n",
       "      <td>0.28</td>\n",
       "      <td>0.56</td>\n",
       "      <td>1.9</td>\n",
       "      <td>0.075</td>\n",
       "      <td>17.0</td>\n",
       "      <td>60.0</td>\n",
       "      <td>0.9980</td>\n",
       "      <td>3.16</td>\n",
       "      <td>0.58</td>\n",
       "      <td>9.8</td>\n",
       "      <td>6</td>\n",
       "    </tr>\n",
       "    <tr>\n",
       "      <th>4</th>\n",
       "      <td>7.4</td>\n",
       "      <td>0.66</td>\n",
       "      <td>0.00</td>\n",
       "      <td>1.8</td>\n",
       "      <td>0.075</td>\n",
       "      <td>13.0</td>\n",
       "      <td>40.0</td>\n",
       "      <td>0.9978</td>\n",
       "      <td>3.51</td>\n",
       "      <td>0.56</td>\n",
       "      <td>9.4</td>\n",
       "      <td>5</td>\n",
       "    </tr>\n",
       "  </tbody>\n",
       "</table>\n",
       "</div>"
      ],
      "text/plain": [
       "   fixed acidity  volatile acidity  citric acid  residual sugar  chlorides  \\\n",
       "0            7.4              0.70         0.00             1.9      0.076   \n",
       "1            7.8              0.88         0.00             2.6      0.098   \n",
       "2            7.8              0.76         0.04             2.3      0.092   \n",
       "3           11.2              0.28         0.56             1.9      0.075   \n",
       "4            7.4              0.66         0.00             1.8      0.075   \n",
       "\n",
       "   free sulfur dioxide  total sulfur dioxide  density    pH  sulphates  \\\n",
       "0                 11.0                  34.0   0.9978  3.51       0.56   \n",
       "1                 25.0                  67.0   0.9968  3.20       0.68   \n",
       "2                 15.0                  54.0   0.9970  3.26       0.65   \n",
       "3                 17.0                  60.0   0.9980  3.16       0.58   \n",
       "4                 13.0                  40.0   0.9978  3.51       0.56   \n",
       "\n",
       "   alcohol  quality  \n",
       "0      9.4        5  \n",
       "1      9.8        5  \n",
       "2      9.8        5  \n",
       "3      9.8        6  \n",
       "4      9.4        5  "
      ]
     },
     "execution_count": 95,
     "metadata": {},
     "output_type": "execute_result"
    }
   ],
   "source": [
    "df_no_outliers_of_chlorides = calculate_outliers(combined_wine_df_numerical, True, \"chlorides\")\n",
    "\n",
    "df_no_outliers_of_chlorides.head()"
   ]
  },
  {
   "cell_type": "code",
   "execution_count": 103,
   "id": "24a83af9-3432-41e4-bd0e-ddc933fda3f0",
   "metadata": {},
   "outputs": [
    {
     "data": {
      "text/plain": [
       "(array([  1.,   2.,   5.,   8.,  13.,  20.,  34.,  44.,  69., 117., 159.,\n",
       "        182., 232., 272., 278., 282., 286., 275., 288., 291., 249., 180.,\n",
       "        187., 121., 110.,  93.,  64.,  66.,  71.,  70.,  73.,  66.,  83.,\n",
       "         86.,  83.,  96.,  76.,  77.,  54.,  52.,  42.,  40.,  44.,  39.,\n",
       "         26.,  20.,  14.,  20.,  12.,  11.]),\n",
       " array([0.009  , 0.01098, 0.01296, 0.01494, 0.01692, 0.0189 , 0.02088,\n",
       "        0.02286, 0.02484, 0.02682, 0.0288 , 0.03078, 0.03276, 0.03474,\n",
       "        0.03672, 0.0387 , 0.04068, 0.04266, 0.04464, 0.04662, 0.0486 ,\n",
       "        0.05058, 0.05256, 0.05454, 0.05652, 0.0585 , 0.06048, 0.06246,\n",
       "        0.06444, 0.06642, 0.0684 , 0.07038, 0.07236, 0.07434, 0.07632,\n",
       "        0.0783 , 0.08028, 0.08226, 0.08424, 0.08622, 0.0882 , 0.09018,\n",
       "        0.09216, 0.09414, 0.09612, 0.0981 , 0.10008, 0.10206, 0.10404,\n",
       "        0.10602, 0.108  ]),\n",
       " <BarContainer object of 50 artists>)"
      ]
     },
     "execution_count": 103,
     "metadata": {},
     "output_type": "execute_result"
    },
    {
     "data": {
      "image/png": "[encoded data removed]",
      "text/plain": [
       "<Figure size 640x480 with 1 Axes>"
      ]
     },
     "metadata": {},
     "output_type": "display_data"
    }
   ],
   "source": [
    "plt.hist(df_no_outliers_of_chlorides[\"chlorides\"], bins=50, edgecolor=\"black\")"
   ]
  },
  {
   "cell_type": "code",
   "execution_count": 101,
   "id": "bd7b94b4-26ab-4438-99c2-f20058fc932c",
   "metadata": {},
   "outputs": [
    {
     "name": "stdout",
     "output_type": "stream",
     "text": [
      "0.849074882514672\n"
     ]
    }
   ],
   "source": [
    "skewness_of_chlorides_no_outliers = df_no_outliers_of_chlorides[\"chlorides\"].skew()\n",
    "\n",
    "print(skewness_of_chlorides_no_outliers)"
   ]
  },
  {
   "cell_type": "markdown",
   "id": "6b5cdb35-aa27-4341-9c04-5c2f344e8d48",
   "metadata": {},
   "source": [
    "## 11) Checking for outliers in 'residual sugar'"
   ]
  },
  {
   "cell_type": "markdown",
   "id": "cc5d9bbb-8906-476b-91db-83632bdc3e7f",
   "metadata": {},
   "source": [
    "#### 11.1) combined_wine_df"
   ]
  },
  {
   "cell_type": "markdown",
   "id": "bc7ff401-f2af-4fd5-858f-57ef6baac5da",
   "metadata": {},
   "source": [
    "##### 11.1.1) Finding the outliers through quantiles"
   ]
  },
  {
   "cell_type": "code",
   "execution_count": null,
   "id": "de2b97f2-408f-4247-bf9b-ab34615281b6",
   "metadata": {
    "scrolled": true
   },
   "outputs": [],
   "source": [
    "# 25 percentile: The value that 25 % of the data is below\n",
    "Q1_fa = red_wine_df_f2[\"fixed acidity\"].quantile(0.25)\n",
    "\n",
    "# 75 percentile: The value that 75 % of the data is above\n",
    "Q3_fa = red_wine_df_f2[\"fixed acidity\"].quantile(0.75)\n",
    "\n",
    "IQR_fa = Q3_fa-Q1_fa\n",
    "\n",
    "Lower_Fence = Q1_fa - (1.5*IQR_fa)\n",
    "Upper_Fence = Q3_fa + (1.5*IQR_fa)\n",
    "\n",
    "# A boolean condition that identifies outliers in the \"fixed acidity\" column of the red_wine_df DataFrame\n",
    "outliers_condition = (red_wine_df_f2[\"fixed acidity\"] < Lower_Fence) | (red_wine_df_f2[\"fixed acidity\"] > Upper_Fence)\n",
    "\n",
    "outliers = red_wine_df_f2[(outliers_condition)]\n",
    "\n",
    "number_of_outliers = outliers.shape[0]\n",
    "print(\"Number of outliers: \" + str(number_of_outliers))\n",
    "outliers"
   ]
  },
  {
   "cell_type": "markdown",
   "id": "2d7b02d9-4c59-4666-8c51-4b7d2ae622bd",
   "metadata": {},
   "source": [
    "###### (Standard deviation - just my own exploration)"
   ]
  },
  {
   "cell_type": "code",
   "execution_count": null,
   "id": "4c7de666-178b-4b82-b387-3280dd145602",
   "metadata": {},
   "outputs": [],
   "source": [
    "std_fix_aci = red_wine_df[\"fixed acidity\"].std()\n",
    "print(std_fix_aci)"
   ]
  },
  {
   "cell_type": "code",
   "execution_count": null,
   "id": "383987ea-dd93-4706-b8e1-854b06d83d10",
   "metadata": {},
   "outputs": [],
   "source": [
    "mean_fix_aci = red_wine_df[\"fixed acidity\"].mean()\n",
    "print(mean_fix_aci)"
   ]
  },
  {
   "cell_type": "code",
   "execution_count": null,
   "id": "1d3577f5-b31b-4a53-bed6-aebca32fe067",
   "metadata": {},
   "outputs": [],
   "source": [
    "Lower_Fence_from_std = mean_fix_aci - (3*std_fix_aci)\n",
    "print(\"Lower Fence from std: \" + str(Lower_Fence_from_std))\n",
    "print(\"Lower Fence from quantiles: \" + str(Lower_Fence))\n",
    "\n"
   ]
  },
  {
   "cell_type": "markdown",
   "id": "fde441a9-d03b-41fd-8906-90ffde882257",
   "metadata": {},
   "source": [
    "###### Removing outliers "
   ]
  },
  {
   "cell_type": "code",
   "execution_count": null,
   "id": "84b8f5df-66c1-4889-ae63-6ece97026058",
   "metadata": {},
   "outputs": [],
   "source": [
    "#red_wine_df_f1 = red_wine_df[~outliers_condition] "
   ]
  },
  {
   "cell_type": "code",
   "execution_count": null,
   "id": "7912efe7-7513-4a8e-bfa1-2c8e99686691",
   "metadata": {},
   "outputs": [],
   "source": [
    "#red_wine_df_f1.iloc[240:250]"
   ]
  },
  {
   "cell_type": "code",
   "execution_count": null,
   "id": "3c9419a6-e31e-4eb5-979b-a30619862e74",
   "metadata": {},
   "outputs": [],
   "source": [
    "#columns = red_wine_df_f1.shape[1]\n",
    "#rows = red_wine_df_f1.shape[0]\n",
    "\n",
    "#print(\"Number of columns: \" + str(columns))\n",
    "#print(\"Number of rows: \" + str(rows))\n"
   ]
  },
  {
   "cell_type": "code",
   "execution_count": null,
   "id": "6ea75401-1fa5-4a5e-bdc1-65b49a26dc17",
   "metadata": {},
   "outputs": [],
   "source": [
    "#row_2 = red_wine_df_f1.iloc[2]\n",
    "\"print(row_2)"
   ]
  },
  {
   "cell_type": "code",
   "execution_count": null,
   "id": "8b9ca54b-cf29-4e46-b01e-6c509f1dc495",
   "metadata": {},
   "outputs": [],
   "source": []
  },
  {
   "cell_type": "code",
   "execution_count": null,
   "id": "805ade04-e626-46bb-9ee4-76b0d06f86e2",
   "metadata": {},
   "outputs": [],
   "source": []
  }
 ],
 "metadata": {
  "kernelspec": {
   "display_name": "Python 3 (ipykernel)",
   "language": "python",
   "name": "python3"
  },
  "language_info": {
   "codemirror_mode": {
    "name": "ipython",
    "version": 3
   },
   "file_extension": ".py",
   "mimetype": "text/x-python",
   "name": "python",
   "nbconvert_exporter": "python",
   "pygments_lexer": "ipython3",
   "version": "3.12.4"
  }
 },
 "nbformat": 4,
 "nbformat_minor": 5
}
