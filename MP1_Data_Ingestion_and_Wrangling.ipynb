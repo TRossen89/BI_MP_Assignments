{
 "cells": [
  {
   "cell_type": "markdown",
   "id": "16c98745-76dd-485c-b507-2182ec753eb0",
   "metadata": {},
   "source": [
    "# DATA INGESTION AND WRANGLING\n"
   ]
  },
  {
   "cell_type": "code",
   "execution_count": null,
   "id": "03ed4c8e-26aa-4d8a-8ba5-04db11fa943b",
   "metadata": {},
   "outputs": [],
   "source": []
  }
 ],
 "metadata": {
  "kernelspec": {
   "display_name": "Python 3 (ipykernel)",
   "language": "python",
   "name": "python3"
  },
  "language_info": {
   "codemirror_mode": {
    "name": "ipython",
    "version": 3
   },
   "file_extension": ".py",
   "mimetype": "text/x-python",
   "name": "python",
   "nbconvert_exporter": "python",
   "pygments_lexer": "ipython3",
   "version": "3.12.4"
  }
 },
 "nbformat": 4,
 "nbformat_minor": 5
}
