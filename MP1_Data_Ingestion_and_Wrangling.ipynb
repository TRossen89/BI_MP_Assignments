{
 "cells": [
  {
   "cell_type": "markdown",
   "id": "16c98745-76dd-485c-b507-2182ec753eb0",
   "metadata": {},
   "source": [
    "# DATA INGESTION AND WRANGLING\n"
   ]
  },
  {
   "cell_type": "markdown",
   "id": "af2cf3f1-5359-491b-96a4-1ac9c2c7e9dd",
   "metadata": {},
   "source": [
    "## 1) XLS"
   ]
  },
  {
   "cell_type": "code",
   "execution_count": 12,
   "id": "f6b81500-1a2a-481f-b3d1-4347df024b3d",
   "metadata": {},
   "outputs": [
    {
     "name": "stdout",
     "output_type": "stream",
     "text": [
      "   id    name  age                                        random_info\n",
      "0  ID    NAME  AGE                                        RANDOM_INFO\n",
      "1   1  Tobias   34  Can only ride without hands on one bike in the...\n",
      "2   2   Jonas   31                           Is the best fisher in NV\n",
      "3   3   Lykke   63                                 Is a great teacher\n",
      "4   4    Finn   63                               Is a great guitarist\n",
      "   ID    NAME  AGE                                        RANDOM_INFO\n",
      "0   1  Tobias   34  Can only ride without hands on one bike in the...\n",
      "1   2   Jonas   31                           Is the best fisher in NV\n",
      "2   3   Lykke   63                                 Is a great teacher\n",
      "3   4    Finn   63                               Is a great guitarist\n"
     ]
    }
   ],
   "source": [
    "import pandas as pd\n",
    "\n",
    "def load_xls(file_path, headerChosen):\n",
    "    df = pd.read_excel(file_path, header=headerChosen)\n",
    "    return df\n",
    "\n",
    "# Example usage\n",
    "excel_data1 = load_xls('C:/Users/acm11/OneDrive/Dokumenter/test_excel_familien.xlsx', 0)\n",
    "excel_data2 = load_xls('C:/Users/acm11/OneDrive/Dokumenter/test_excel_familien.xlsx', 1)\n",
    "\n",
    "print(excel_data1)\n",
    "print(excel_data2)"
   ]
  },
  {
   "cell_type": "code",
   "execution_count": null,
   "id": "60c952c5-c86f-4161-8970-6ee2fdba10a4",
   "metadata": {},
   "outputs": [],
   "source": []
  },
  {
   "cell_type": "code",
   "execution_count": null,
   "id": "93dabbc4-985e-44fd-97ff-0f664f007952",
   "metadata": {},
   "outputs": [],
   "source": []
  }
 ],
 "metadata": {
  "kernelspec": {
   "display_name": "Python 3 (ipykernel)",
   "language": "python",
   "name": "python3"
  },
  "language_info": {
   "codemirror_mode": {
    "name": "ipython",
    "version": 3
   },
   "file_extension": ".py",
   "mimetype": "text/x-python",
   "name": "python",
   "nbconvert_exporter": "python",
   "pygments_lexer": "ipython3",
   "version": "3.12.4"
  }
 },
 "nbformat": 4,
 "nbformat_minor": 5
}
