{
 "cells": [
  {
   "cell_type": "markdown",
   "id": "16c98745-76dd-485c-b507-2182ec753eb0",
   "metadata": {},
   "source": [
    "# DATA INGESTION AND WRANGLING\n"
   ]
  },
  {
   "cell_type": "markdown",
   "id": "af2cf3f1-5359-491b-96a4-1ac9c2c7e9dd",
   "metadata": {},
   "source": [
    "## 1) Formats chosen: "
   ]
  },
  {
   "cell_type": "markdown",
   "id": "d197927e-f2e0-4eb7-a64b-53106f222f9b",
   "metadata": {},
   "source": [
    "* .jpg/.jpeg\n",
    "* .mp4\n",
    "* .xlsx\n",
    "* .json\n",
    "* .csv\n"
   ]
  },
  {
   "cell_type": "markdown",
   "id": "8698c0ec-4a28-4fa5-9a6b-cd66933481bf",
   "metadata": {},
   "source": [
    "## 2) Python functions for loading data in different formats "
   ]
  },
  {
   "cell_type": "markdown",
   "id": "965cc420-759a-4841-b874-7dd1c81163eb",
   "metadata": {},
   "source": [
    "### 2.1) load_jpeg_image"
   ]
  },
  {
   "cell_type": "code",
   "execution_count": 130,
   "id": "93dabbc4-985e-44fd-97ff-0f664f007952",
   "metadata": {},
   "outputs": [],
   "source": [
    "from PIL import Image\n",
    "from IPython.display import display\n",
    "\n",
    "def load_jpeg_image(file_path):\n",
    "    \"\"\"\n",
    "    Load a JPEG image from a file.\n",
    "    \n",
    "    :param file_path: Path to the JPEG image file.\n",
    "    :return: An Image object.\n",
    "    \"\"\"\n",
    "    image = Image.open(file_path)\n",
    "\n",
    "    #display(image)\n",
    "    return image\n",
    "\n",
    "# Example usage:\n",
    "image = load_jpeg_image('C:/Users/acm11/Pictures/Mønster-prøve.jpg')\n",
    "\n",
    "# This opens the image in a (the computers default?) application for showing images:\n",
    "#image.show()\n",
    "\n"
   ]
  },
  {
   "cell_type": "markdown",
   "id": "aa7f7294-bec3-49d8-a1a4-f11fbaa842a5",
   "metadata": {},
   "source": [
    "### 2.2) load_mp4_video"
   ]
  },
  {
   "cell_type": "code",
   "execution_count": 16,
   "id": "49a301fa-5c27-4392-ba99-a075ed4f76e4",
   "metadata": {},
   "outputs": [
    {
     "name": "stdout",
     "output_type": "stream",
     "text": [
      "Starting to load frames...\n",
      "Frames loaded: 329\n",
      "Total time taken: 18.12 seconds\n"
     ]
    }
   ],
   "source": [
    "import cv2\n",
    "import time\n",
    "import matplotlib.pyplot as plt\n",
    "\n",
    "def load_mp4_video(file_path):\n",
    "\n",
    "    # Creating a VideoCapture object (which create a way) to read video(frames) from file\n",
    "    video = cv2.VideoCapture(file_path)\n",
    "\n",
    "    # Initializing a variable with a list for video frames\n",
    "    frames = []\n",
    "\n",
    "    # Start timing\n",
    "    start_time = time.time()\n",
    "    \n",
    "    print(\"Starting to load frames...\")\n",
    "    \n",
    "\n",
    "    while True:\n",
    "        # video.read() reads the next frame in the video and updates which frames has been read in the video(VideoCapture) object\n",
    "        # video.read() returns a 1) boolean value indicating if the frame has been read succesfully and 2) a frame\n",
    "        fr_read_succes, frame = video.read()\n",
    "        \n",
    "        if not fr_read_succes:\n",
    "            break\n",
    "            \n",
    "        frames.append(frame)\n",
    "\n",
    "    # Stop timing\n",
    "    end_time = time.time()\n",
    "    elapsed_time = end_time - start_time\n",
    "\n",
    "    # Closing file video object was associated with/stops capturing video from a live camera or other live video source\n",
    "    video.release()\n",
    "\n",
    "    # Print summary\n",
    "    print(f\"Frames loaded: {len(frames)}\")\n",
    "    print(f\"Total time taken: {elapsed_time:.2f} seconds\")\n",
    "    \n",
    "    return frames\n",
    "\n",
    "\n",
    "frames = load_mp4_video('C:/Users/acm11/Videos/SodaVideo.mp4')\n",
    "    "
   ]
  },
  {
   "cell_type": "markdown",
   "id": "76518cf3-2fee-4802-94e8-67933074da00",
   "metadata": {},
   "source": [
    "### 2.3) load_excel_file"
   ]
  },
  {
   "cell_type": "code",
   "execution_count": 97,
   "id": "f6b81500-1a2a-481f-b3d1-4347df024b3d",
   "metadata": {},
   "outputs": [],
   "source": [
    "import pandas as pd\n",
    "\n",
    "def load_excel_file(file_path, headerChosen):\n",
    "    df = pd.read_excel(file_path, header=headerChosen)\n",
    "    return df\n",
    "\n",
    "# Example usage\n",
    "excel_data1 = load_xls('C:/Users/acm11/OneDrive/Dokumenter/test_excel_familien.xlsx', 0)\n",
    "excel_data2 = load_xls('C:/Users/acm11/OneDrive/Dokumenter/test_excel_familien.xlsx', 1)\n",
    "\n",
    "#print(excel_data1)\n",
    "#print(excel_data2)"
   ]
  },
  {
   "cell_type": "code",
   "execution_count": 142,
   "id": "3388e369-5edd-46d0-a489-c763dca5b6c5",
   "metadata": {},
   "outputs": [],
   "source": [
    "first_frame_rgb = cv2.cvtColor(frames[0], cv2.COLOR_BGR2RGB)\n",
    "\n",
    "#plt.imshow(first_frame_rgb)\n",
    "#plt.title(\"RGB Image of first frame in soda video\")\n",
    "#plt.axis(\"off\")\n",
    "#plt.show()\n",
    "\n",
    "\n",
    "first_frame_image = Image.fromarray(first_frame_rgb)\n",
    "\n",
    "# Displays the image in another application\n",
    "#first_frame_image.show(title='First Frame')\n",
    "\n",
    "# cv2.destroyAllWindows()\n",
    "\n",
    "# Displaying the image as an array\n",
    "#display(first_frame_rgb)"
   ]
  },
  {
   "cell_type": "markdown",
   "id": "f1d84a93-9cd8-4362-93ec-0e478efa0329",
   "metadata": {},
   "source": [
    "### 2.4) load_json_file"
   ]
  },
  {
   "cell_type": "code",
   "execution_count": 183,
   "id": "97878a31-6bd2-401b-ac85-21ce0b85b03d",
   "metadata": {},
   "outputs": [],
   "source": [
    "import json\n",
    "\n",
    "def load_json_file(file_path):\n",
    "\n",
    "    with open(file_path, 'r') as file:\n",
    "        data = json.load(file)\n",
    "\n",
    "    df = pd.DataFrame(data)\n",
    "\n",
    "    return df\n",
    "    \n",
    "# Example usage\n",
    "#df = load_json_file('C:/User/SomeDirectory/SomeFile.json')\n"
   ]
  },
  {
   "cell_type": "markdown",
   "id": "fbe40f1e-a74b-4925-b006-4b98160164dd",
   "metadata": {},
   "source": [
    "### 2.5) load_csv_file"
   ]
  },
  {
   "cell_type": "code",
   "execution_count": 77,
   "id": "3fa6ed62-a70a-48d1-ab3a-3c209dce70c6",
   "metadata": {},
   "outputs": [],
   "source": [
    "def load_csv_file(file_path):\n",
    "\n",
    "    df = pd.read_csv(file_path, header=0)\n",
    "\n",
    "    return df\n",
    "\n",
    "healthcare_df = load_csv_file(\"C:/User/SomeDirectory/SomeFile.json\")"
   ]
  },
  {
   "cell_type": "markdown",
   "id": "726e9084-4e6c-49d6-9b3f-76a9c6af4a5e",
   "metadata": {},
   "source": [
    "## 3) Using my functions to create Data Frames"
   ]
  },
  {
   "cell_type": "markdown",
   "id": "b20872e0-6341-4b7f-b357-7cd4ec4abcab",
   "metadata": {},
   "source": [
    "* 3.1) XLS -> Data Frame\n",
    "* 3.2) JSON -> Data Frame\n",
    "* 3.3) CSV -> Data Frame"
   ]
  },
  {
   "cell_type": "markdown",
   "id": "0c948776-a7b3-410d-8796-45a63e492e0e",
   "metadata": {},
   "source": [
    "### 3.1) XLS -> Data Frame\n"
   ]
  },
  {
   "cell_type": "code",
   "execution_count": 170,
   "id": "4a321cbb-89bd-41d8-91a7-e129fde7a92f",
   "metadata": {},
   "outputs": [],
   "source": [
    "uspres_df = load_excel_file(\"C:/Users/acm11/BusinessIntelligencedat4/US_Presidents.xlsx\", 0)"
   ]
  },
  {
   "cell_type": "markdown",
   "id": "8b721433-9497-496c-bd5e-1a9747bf61a7",
   "metadata": {},
   "source": [
    "### 3.2) JSON -> Data Frame"
   ]
  },
  {
   "cell_type": "code",
   "execution_count": 185,
   "id": "ff5e953a-c00a-46c7-877b-906a7a537b06",
   "metadata": {},
   "outputs": [],
   "source": [
    "iris_df = load_json_file(\"C:/Users/acm11/BusinessIntelligencedat4/iris.json\")"
   ]
  },
  {
   "cell_type": "markdown",
   "id": "f9f5f1f1-59b5-40f1-a0d2-ee5c8d680bd2",
   "metadata": {},
   "source": [
    "### 3.3) CSV -> Data Frame"
   ]
  },
  {
   "cell_type": "code",
   "execution_count": 220,
   "id": "d03f9fde-c5e2-4467-86d4-7797fac5fbd5",
   "metadata": {},
   "outputs": [],
   "source": [
    "alcohol_df = load_csv_file(\"C:/Users/acm11/BusinessIntelligencedat4/Alcohol_effect_on_students.csv\")"
   ]
  },
  {
   "cell_type": "markdown",
   "id": "48dbab7a-c725-4744-92a0-5c4b8c72151d",
   "metadata": {},
   "source": [
    "## 4) Exploration and cleaning of data"
   ]
  },
  {
   "cell_type": "markdown",
   "id": "05de4657-17b1-490f-b301-8c2093a651d2",
   "metadata": {},
   "source": [
    "### 4.1) Exploring"
   ]
  },
  {
   "cell_type": "markdown",
   "id": "99010906-1f4f-4698-a6c7-626f88844684",
   "metadata": {},
   "source": [
    "#### 4.1.1) Eploring US Presidents"
   ]
  },
  {
   "cell_type": "markdown",
   "id": "05de6965-f63f-47f5-a24a-d7712b5df2df",
   "metadata": {},
   "source": [
    "##### 4.1.1.1) The 5 first rows: .head()"
   ]
  },
  {
   "cell_type": "code",
   "execution_count": 172,
   "id": "ecfbae6f-07e0-4938-a367-6b9566f60d4a",
   "metadata": {},
   "outputs": [
    {
     "data": {
      "text/html": [
       "<div>\n",
       "<style scoped>\n",
       "    .dataframe tbody tr th:only-of-type {\n",
       "        vertical-align: middle;\n",
       "    }\n",
       "\n",
       "    .dataframe tbody tr th {\n",
       "        vertical-align: top;\n",
       "    }\n",
       "\n",
       "    .dataframe thead th {\n",
       "        text-align: right;\n",
       "    }\n",
       "</style>\n",
       "<table border=\"1\" class=\"dataframe\">\n",
       "  <thead>\n",
       "    <tr style=\"text-align: right;\">\n",
       "      <th></th>\n",
       "      <th>Unnamed: 0</th>\n",
       "      <th>S.No.</th>\n",
       "      <th>president</th>\n",
       "      <th>prior</th>\n",
       "      <th>party</th>\n",
       "      <th>vice</th>\n",
       "      <th>salary</th>\n",
       "      <th>date updated</th>\n",
       "      <th>date created</th>\n",
       "    </tr>\n",
       "  </thead>\n",
       "  <tbody>\n",
       "    <tr>\n",
       "      <th>0</th>\n",
       "      <td>0</td>\n",
       "      <td>1</td>\n",
       "      <td>George Washington</td>\n",
       "      <td>Commander-in-Chief  of the  Continental Army  ...</td>\n",
       "      <td>Nonpartisan</td>\n",
       "      <td>John Adams</td>\n",
       "      <td>5000</td>\n",
       "      <td>2021-07-14</td>\n",
       "      <td>2012-03-04</td>\n",
       "    </tr>\n",
       "    <tr>\n",
       "      <th>1</th>\n",
       "      <td>1</td>\n",
       "      <td>2</td>\n",
       "      <td>john adams</td>\n",
       "      <td>1st  Vice President of the United States</td>\n",
       "      <td>Federalist</td>\n",
       "      <td>Thomas Jefferson</td>\n",
       "      <td>10000</td>\n",
       "      <td>2021-07-14</td>\n",
       "      <td>2012-03-04</td>\n",
       "    </tr>\n",
       "    <tr>\n",
       "      <th>2</th>\n",
       "      <td>2</td>\n",
       "      <td>3</td>\n",
       "      <td>Thomas Jefferson</td>\n",
       "      <td>2nd  Vice President of the United States</td>\n",
       "      <td>Democratic-  Republican</td>\n",
       "      <td>Aaron Burr</td>\n",
       "      <td>15000</td>\n",
       "      <td>2021-07-14</td>\n",
       "      <td>2012-03-04</td>\n",
       "    </tr>\n",
       "    <tr>\n",
       "      <th>3</th>\n",
       "      <td>3</td>\n",
       "      <td>4</td>\n",
       "      <td>James Madison</td>\n",
       "      <td>5th  United States Secretary of State   (1801â...</td>\n",
       "      <td>Democratic-  Republican</td>\n",
       "      <td>George    Clinton</td>\n",
       "      <td>20000</td>\n",
       "      <td>2021-07-14</td>\n",
       "      <td>2012-03-04</td>\n",
       "    </tr>\n",
       "    <tr>\n",
       "      <th>4</th>\n",
       "      <td>4</td>\n",
       "      <td>5</td>\n",
       "      <td>JAMES MONROE</td>\n",
       "      <td>7th  United States Secretary of State   (1811â...</td>\n",
       "      <td>Democratic-  Republican</td>\n",
       "      <td>Daniel D. Tompkins</td>\n",
       "      <td>25000</td>\n",
       "      <td>2021-07-14</td>\n",
       "      <td>2012-03-04</td>\n",
       "    </tr>\n",
       "  </tbody>\n",
       "</table>\n",
       "</div>"
      ],
      "text/plain": [
       "   Unnamed: 0  S.No.          president  \\\n",
       "0           0      1  George Washington   \n",
       "1           1      2         john adams   \n",
       "2           2      3   Thomas Jefferson   \n",
       "3           3      4      James Madison   \n",
       "4           4      5       JAMES MONROE   \n",
       "\n",
       "                                               prior                    party  \\\n",
       "0  Commander-in-Chief  of the  Continental Army  ...              Nonpartisan   \n",
       "1           1st  Vice President of the United States               Federalist   \n",
       "2           2nd  Vice President of the United States  Democratic-  Republican   \n",
       "3  5th  United States Secretary of State   (1801â...  Democratic-  Republican   \n",
       "4  7th  United States Secretary of State   (1811â...  Democratic-  Republican   \n",
       "\n",
       "                 vice  salary date updated date created  \n",
       "0          John Adams    5000   2021-07-14   2012-03-04  \n",
       "1    Thomas Jefferson   10000   2021-07-14   2012-03-04  \n",
       "2          Aaron Burr   15000   2021-07-14   2012-03-04  \n",
       "3   George    Clinton   20000   2021-07-14   2012-03-04  \n",
       "4  Daniel D. Tompkins   25000   2021-07-14   2012-03-04  "
      ]
     },
     "execution_count": 172,
     "metadata": {},
     "output_type": "execute_result"
    }
   ],
   "source": [
    "uspres_df.head()"
   ]
  },
  {
   "cell_type": "markdown",
   "id": "d23c9f43-19e1-4982-886b-6801d48564ad",
   "metadata": {},
   "source": [
    "##### 4.1.1.2) Data types: .dtypes"
   ]
  },
  {
   "cell_type": "code",
   "execution_count": 174,
   "id": "d40629dd-25f5-4a6c-b46b-80dc1b10e149",
   "metadata": {},
   "outputs": [
    {
     "data": {
      "text/html": [
       "<div>\n",
       "<style scoped>\n",
       "    .dataframe tbody tr th:only-of-type {\n",
       "        vertical-align: middle;\n",
       "    }\n",
       "\n",
       "    .dataframe tbody tr th {\n",
       "        vertical-align: top;\n",
       "    }\n",
       "\n",
       "    .dataframe thead th {\n",
       "        text-align: right;\n",
       "    }\n",
       "</style>\n",
       "<table border=\"1\" class=\"dataframe\">\n",
       "  <thead>\n",
       "    <tr style=\"text-align: right;\">\n",
       "      <th></th>\n",
       "      <th>0</th>\n",
       "      <th>1</th>\n",
       "      <th>2</th>\n",
       "      <th>3</th>\n",
       "      <th>4</th>\n",
       "      <th>5</th>\n",
       "      <th>6</th>\n",
       "      <th>7</th>\n",
       "      <th>8</th>\n",
       "    </tr>\n",
       "  </thead>\n",
       "  <tbody>\n",
       "    <tr>\n",
       "      <th>Column Name</th>\n",
       "      <td>Unnamed: 0</td>\n",
       "      <td>S.No.</td>\n",
       "      <td>president</td>\n",
       "      <td>prior</td>\n",
       "      <td>party</td>\n",
       "      <td>vice</td>\n",
       "      <td>salary</td>\n",
       "      <td>date updated</td>\n",
       "      <td>date created</td>\n",
       "    </tr>\n",
       "    <tr>\n",
       "      <th>Data Type</th>\n",
       "      <td>int64</td>\n",
       "      <td>int64</td>\n",
       "      <td>object</td>\n",
       "      <td>object</td>\n",
       "      <td>object</td>\n",
       "      <td>object</td>\n",
       "      <td>int64</td>\n",
       "      <td>datetime64[ns]</td>\n",
       "      <td>datetime64[ns]</td>\n",
       "    </tr>\n",
       "  </tbody>\n",
       "</table>\n",
       "</div>"
      ],
      "text/plain": [
       "                      0      1          2       3       4       5       6  \\\n",
       "Column Name  Unnamed: 0  S.No.  president   prior   party    vice  salary   \n",
       "Data Type         int64  int64     object  object  object  object   int64   \n",
       "\n",
       "                          7               8  \n",
       "Column Name    date updated    date created  \n",
       "Data Type    datetime64[ns]  datetime64[ns]  "
      ]
     },
     "execution_count": 174,
     "metadata": {},
     "output_type": "execute_result"
    }
   ],
   "source": [
    "dtypes_series = uspres_df.dtypes\n",
    "dtypes_df = pd.DataFrame([dtypes_series.index, dtypes_series.values], index=['Column Name', 'Data Type'])\n",
    "dtypes_df"
   ]
  },
  {
   "cell_type": "markdown",
   "id": "8cb41ed0-c911-4e25-aab7-abbf5e85382f",
   "metadata": {},
   "source": [
    "##### 4.1.1.3) All missing values (NA or NaN): .isna().sum()"
   ]
  },
  {
   "cell_type": "code",
   "execution_count": 176,
   "id": "91b71e2f-a107-4e29-a42c-a55171e7690f",
   "metadata": {},
   "outputs": [
    {
     "data": {
      "text/plain": [
       "pandas.core.series.Series"
      ]
     },
     "execution_count": 176,
     "metadata": {},
     "output_type": "execute_result"
    }
   ],
   "source": [
    "na_values = uspres_df.isna().sum()\n",
    "type(na_values)"
   ]
  },
  {
   "cell_type": "code",
   "execution_count": 178,
   "id": "bf09f863-44da-4297-a038-47450bda5703",
   "metadata": {},
   "outputs": [
    {
     "data": {
      "text/html": [
       "<div>\n",
       "<style scoped>\n",
       "    .dataframe tbody tr th:only-of-type {\n",
       "        vertical-align: middle;\n",
       "    }\n",
       "\n",
       "    .dataframe tbody tr th {\n",
       "        vertical-align: top;\n",
       "    }\n",
       "\n",
       "    .dataframe thead th {\n",
       "        text-align: right;\n",
       "    }\n",
       "</style>\n",
       "<table border=\"1\" class=\"dataframe\">\n",
       "  <thead>\n",
       "    <tr style=\"text-align: right;\">\n",
       "      <th></th>\n",
       "      <th>0</th>\n",
       "    </tr>\n",
       "  </thead>\n",
       "  <tbody>\n",
       "    <tr>\n",
       "      <th>Unnamed: 0</th>\n",
       "      <td>0</td>\n",
       "    </tr>\n",
       "    <tr>\n",
       "      <th>S.No.</th>\n",
       "      <td>0</td>\n",
       "    </tr>\n",
       "    <tr>\n",
       "      <th>president</th>\n",
       "      <td>0</td>\n",
       "    </tr>\n",
       "    <tr>\n",
       "      <th>prior</th>\n",
       "      <td>0</td>\n",
       "    </tr>\n",
       "    <tr>\n",
       "      <th>party</th>\n",
       "      <td>0</td>\n",
       "    </tr>\n",
       "    <tr>\n",
       "      <th>vice</th>\n",
       "      <td>0</td>\n",
       "    </tr>\n",
       "    <tr>\n",
       "      <th>salary</th>\n",
       "      <td>0</td>\n",
       "    </tr>\n",
       "    <tr>\n",
       "      <th>date updated</th>\n",
       "      <td>0</td>\n",
       "    </tr>\n",
       "    <tr>\n",
       "      <th>date created</th>\n",
       "      <td>0</td>\n",
       "    </tr>\n",
       "  </tbody>\n",
       "</table>\n",
       "</div>"
      ],
      "text/plain": [
       "              0\n",
       "Unnamed: 0    0\n",
       "S.No.         0\n",
       "president     0\n",
       "prior         0\n",
       "party         0\n",
       "vice          0\n",
       "salary        0\n",
       "date updated  0\n",
       "date created  0"
      ]
     },
     "execution_count": 178,
     "metadata": {},
     "output_type": "execute_result"
    }
   ],
   "source": [
    "na_val_df = pd.DataFrame(na_values)\n",
    "na_val_df"
   ]
  },
  {
   "cell_type": "markdown",
   "id": "759ff1d5-6a27-4d3a-9576-e6671d020984",
   "metadata": {},
   "source": [
    "#### 4.1.2) Exploring Iris data"
   ]
  },
  {
   "cell_type": "markdown",
   "id": "7ca0d5c7-5095-41b6-8def-6fee5161f335",
   "metadata": {},
   "source": [
    "##### 4.1.2.1) All missing values (NA or NaN): .isna().sum()"
   ]
  },
  {
   "cell_type": "code",
   "execution_count": 205,
   "id": "e6dc97a9-0383-4db4-b997-d15d3e636d54",
   "metadata": {},
   "outputs": [
    {
     "data": {
      "text/plain": [
       "sepalLength    0\n",
       "sepalWidth     0\n",
       "petalLength    0\n",
       "petalWidth     0\n",
       "species        0\n",
       "dtype: int64"
      ]
     },
     "execution_count": 205,
     "metadata": {},
     "output_type": "execute_result"
    }
   ],
   "source": [
    "iris_df.isna().sum()"
   ]
  },
  {
   "cell_type": "markdown",
   "id": "4788301a-722f-414f-a08f-9b6960d75839",
   "metadata": {},
   "source": [
    "#### 4.1.3) Exploring Alcohol use and s data"
   ]
  },
  {
   "cell_type": "markdown",
   "id": "1c04bd32-649b-42fb-8f8c-893a4f6abab6",
   "metadata": {},
   "source": [
    "##### 4.1.3.2) All missing values (NA or NaN): .isna().sum()"
   ]
  },
  {
   "cell_type": "code",
   "execution_count": 222,
   "id": "f3a8eb93-8b85-4217-a4f8-9ca7f4a5dbae",
   "metadata": {},
   "outputs": [
    {
     "data": {
      "text/plain": [
       "Timestamp                                                                                             0\n",
       "Your Sex?                                                                                             2\n",
       "Your Matric (grade 12) Average/ GPA (in %)                                                            7\n",
       "What year were you in last year (2023) ?                                                             73\n",
       "What faculty does your degree fall under?                                                             7\n",
       "Your 2023 academic year average/GPA in % (Ignore if you are 2024 1st year student)                   86\n",
       "Your Accommodation Status Last Year (2023)                                                           23\n",
       "Monthly Allowance in 2023                                                                            31\n",
       "Were you on scholarship/bursary in 2023?                                                              8\n",
       "Additional amount of studying (in hrs) per week                                                       3\n",
       "How often do you go out partying/socialising during the week?                                         2\n",
       "On a night out, how many alcoholic drinks do you consume?                                             2\n",
       "How many classes do you miss per week due to alcohol reasons, (i.e: being hungover or too tired?)     3\n",
       "How many modules have you failed thus far into your studies?                                          3\n",
       "Are you currently in a romantic relationship?                                                         3\n",
       "Do your parents approve alcohol consumption?                                                          4\n",
       "How strong is your relationship with your parent/s?                                                   3\n",
       "dtype: int64"
      ]
     },
     "execution_count": 222,
     "metadata": {},
     "output_type": "execute_result"
    }
   ],
   "source": [
    "alcohol_df.isna().sum()"
   ]
  },
  {
   "cell_type": "code",
   "execution_count": null,
   "id": "ab392033-e8bb-45fa-a875-79dcce6c213a",
   "metadata": {},
   "outputs": [],
   "source": []
  }
 ],
 "metadata": {
  "kernelspec": {
   "display_name": "Python 3 (ipykernel)",
   "language": "python",
   "name": "python3"
  },
  "language_info": {
   "codemirror_mode": {
    "name": "ipython",
    "version": 3
   },
   "file_extension": ".py",
   "mimetype": "text/x-python",
   "name": "python",
   "nbconvert_exporter": "python",
   "pygments_lexer": "ipython3",
   "version": "3.12.4"
  }
 },
 "nbformat": 4,
 "nbformat_minor": 5
}
